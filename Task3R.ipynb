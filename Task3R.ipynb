{
 "cells": [
  {
   "cell_type": "markdown",
   "id": "7d1f4f89",
   "metadata": {},
   "source": [
    "# GRIP: The Sparks Foundation\n",
    "\n",
    "### Data Science and Business Analytics Intern\n",
    "\n",
    "### Author: Aastha Shah\n",
    "\n",
    "## Task 3: Exploratory Data Analysis - Retail\n",
    "###  ->As a business manager, try to find out the weak areas where you can make more profit\n",
    "###  ->What all business problems you can derive by exploring the data?"
   ]
  },
  {
   "cell_type": "markdown",
   "id": "12f4b451",
   "metadata": {},
   "source": [
    "## Step 1:  Importing all necessary libraries "
   ]
  },
  {
   "cell_type": "code",
   "execution_count": 80,
   "id": "e2bdfdec",
   "metadata": {},
   "outputs": [],
   "source": [
    "library(dplyr)\n",
    "library(ggplot2)\n",
    "library(tidyr)\n",
    "library(shiny)\n",
    "library(plotly)\n",
    "library(corrr)\n",
    "library(treemap)\n"
   ]
  },
  {
   "cell_type": "markdown",
   "id": "d9c41fb1",
   "metadata": {},
   "source": [
    "## Step 2: Reading data from csv file "
   ]
  },
  {
   "cell_type": "code",
   "execution_count": 81,
   "id": "730e4b67",
   "metadata": {
    "scrolled": false
   },
   "outputs": [
    {
     "data": {
      "text/html": [
       "<table class=\"dataframe\">\n",
       "<caption>A data.frame: 6 × 13</caption>\n",
       "<thead>\n",
       "\t<tr><th></th><th scope=col>Ship.Mode</th><th scope=col>Segment</th><th scope=col>Country</th><th scope=col>City</th><th scope=col>State</th><th scope=col>Postal.Code</th><th scope=col>Region</th><th scope=col>Category</th><th scope=col>Sub.Category</th><th scope=col>Sales</th><th scope=col>Quantity</th><th scope=col>Discount</th><th scope=col>Profit</th></tr>\n",
       "\t<tr><th></th><th scope=col>&lt;fct&gt;</th><th scope=col>&lt;fct&gt;</th><th scope=col>&lt;fct&gt;</th><th scope=col>&lt;fct&gt;</th><th scope=col>&lt;fct&gt;</th><th scope=col>&lt;int&gt;</th><th scope=col>&lt;fct&gt;</th><th scope=col>&lt;fct&gt;</th><th scope=col>&lt;fct&gt;</th><th scope=col>&lt;dbl&gt;</th><th scope=col>&lt;int&gt;</th><th scope=col>&lt;dbl&gt;</th><th scope=col>&lt;dbl&gt;</th></tr>\n",
       "</thead>\n",
       "<tbody>\n",
       "\t<tr><th scope=row>1</th><td>Second Class  </td><td>Consumer </td><td>United States</td><td>Henderson      </td><td>Kentucky  </td><td>42420</td><td>South</td><td>Furniture      </td><td>Bookcases  </td><td>261.9600</td><td>2</td><td>0.00</td><td>  41.9136</td></tr>\n",
       "\t<tr><th scope=row>2</th><td>Second Class  </td><td>Consumer </td><td>United States</td><td>Henderson      </td><td>Kentucky  </td><td>42420</td><td>South</td><td>Furniture      </td><td>Chairs     </td><td>731.9400</td><td>3</td><td>0.00</td><td> 219.5820</td></tr>\n",
       "\t<tr><th scope=row>3</th><td>Second Class  </td><td>Corporate</td><td>United States</td><td>Los Angeles    </td><td>California</td><td>90036</td><td>West </td><td>Office Supplies</td><td>Labels     </td><td> 14.6200</td><td>2</td><td>0.00</td><td>   6.8714</td></tr>\n",
       "\t<tr><th scope=row>4</th><td>Standard Class</td><td>Consumer </td><td>United States</td><td>Fort Lauderdale</td><td>Florida   </td><td>33311</td><td>South</td><td>Furniture      </td><td>Tables     </td><td>957.5775</td><td>5</td><td>0.45</td><td>-383.0310</td></tr>\n",
       "\t<tr><th scope=row>5</th><td>Standard Class</td><td>Consumer </td><td>United States</td><td>Fort Lauderdale</td><td>Florida   </td><td>33311</td><td>South</td><td>Office Supplies</td><td>Storage    </td><td> 22.3680</td><td>2</td><td>0.20</td><td>   2.5164</td></tr>\n",
       "\t<tr><th scope=row>6</th><td>Standard Class</td><td>Consumer </td><td>United States</td><td>Los Angeles    </td><td>California</td><td>90032</td><td>West </td><td>Furniture      </td><td>Furnishings</td><td> 48.8600</td><td>7</td><td>0.00</td><td>  14.1694</td></tr>\n",
       "</tbody>\n",
       "</table>\n"
      ],
      "text/latex": [
       "A data.frame: 6 × 13\n",
       "\\begin{tabular}{r|lllllllllllll}\n",
       "  & Ship.Mode & Segment & Country & City & State & Postal.Code & Region & Category & Sub.Category & Sales & Quantity & Discount & Profit\\\\\n",
       "  & <fct> & <fct> & <fct> & <fct> & <fct> & <int> & <fct> & <fct> & <fct> & <dbl> & <int> & <dbl> & <dbl>\\\\\n",
       "\\hline\n",
       "\t1 & Second Class   & Consumer  & United States & Henderson       & Kentucky   & 42420 & South & Furniture       & Bookcases   & 261.9600 & 2 & 0.00 &   41.9136\\\\\n",
       "\t2 & Second Class   & Consumer  & United States & Henderson       & Kentucky   & 42420 & South & Furniture       & Chairs      & 731.9400 & 3 & 0.00 &  219.5820\\\\\n",
       "\t3 & Second Class   & Corporate & United States & Los Angeles     & California & 90036 & West  & Office Supplies & Labels      &  14.6200 & 2 & 0.00 &    6.8714\\\\\n",
       "\t4 & Standard Class & Consumer  & United States & Fort Lauderdale & Florida    & 33311 & South & Furniture       & Tables      & 957.5775 & 5 & 0.45 & -383.0310\\\\\n",
       "\t5 & Standard Class & Consumer  & United States & Fort Lauderdale & Florida    & 33311 & South & Office Supplies & Storage     &  22.3680 & 2 & 0.20 &    2.5164\\\\\n",
       "\t6 & Standard Class & Consumer  & United States & Los Angeles     & California & 90032 & West  & Furniture       & Furnishings &  48.8600 & 7 & 0.00 &   14.1694\\\\\n",
       "\\end{tabular}\n"
      ],
      "text/markdown": [
       "\n",
       "A data.frame: 6 × 13\n",
       "\n",
       "| <!--/--> | Ship.Mode &lt;fct&gt; | Segment &lt;fct&gt; | Country &lt;fct&gt; | City &lt;fct&gt; | State &lt;fct&gt; | Postal.Code &lt;int&gt; | Region &lt;fct&gt; | Category &lt;fct&gt; | Sub.Category &lt;fct&gt; | Sales &lt;dbl&gt; | Quantity &lt;int&gt; | Discount &lt;dbl&gt; | Profit &lt;dbl&gt; |\n",
       "|---|---|---|---|---|---|---|---|---|---|---|---|---|---|\n",
       "| 1 | Second Class   | Consumer  | United States | Henderson       | Kentucky   | 42420 | South | Furniture       | Bookcases   | 261.9600 | 2 | 0.00 |   41.9136 |\n",
       "| 2 | Second Class   | Consumer  | United States | Henderson       | Kentucky   | 42420 | South | Furniture       | Chairs      | 731.9400 | 3 | 0.00 |  219.5820 |\n",
       "| 3 | Second Class   | Corporate | United States | Los Angeles     | California | 90036 | West  | Office Supplies | Labels      |  14.6200 | 2 | 0.00 |    6.8714 |\n",
       "| 4 | Standard Class | Consumer  | United States | Fort Lauderdale | Florida    | 33311 | South | Furniture       | Tables      | 957.5775 | 5 | 0.45 | -383.0310 |\n",
       "| 5 | Standard Class | Consumer  | United States | Fort Lauderdale | Florida    | 33311 | South | Office Supplies | Storage     |  22.3680 | 2 | 0.20 |    2.5164 |\n",
       "| 6 | Standard Class | Consumer  | United States | Los Angeles     | California | 90032 | West  | Furniture       | Furnishings |  48.8600 | 7 | 0.00 |   14.1694 |\n",
       "\n"
      ],
      "text/plain": [
       "  Ship.Mode      Segment   Country       City            State      Postal.Code\n",
       "1 Second Class   Consumer  United States Henderson       Kentucky   42420      \n",
       "2 Second Class   Consumer  United States Henderson       Kentucky   42420      \n",
       "3 Second Class   Corporate United States Los Angeles     California 90036      \n",
       "4 Standard Class Consumer  United States Fort Lauderdale Florida    33311      \n",
       "5 Standard Class Consumer  United States Fort Lauderdale Florida    33311      \n",
       "6 Standard Class Consumer  United States Los Angeles     California 90032      \n",
       "  Region Category        Sub.Category Sales    Quantity Discount Profit   \n",
       "1 South  Furniture       Bookcases    261.9600 2        0.00       41.9136\n",
       "2 South  Furniture       Chairs       731.9400 3        0.00      219.5820\n",
       "3 West   Office Supplies Labels        14.6200 2        0.00        6.8714\n",
       "4 South  Furniture       Tables       957.5775 5        0.45     -383.0310\n",
       "5 South  Office Supplies Storage       22.3680 2        0.20        2.5164\n",
       "6 West   Furniture       Furnishings   48.8600 7        0.00       14.1694"
      ]
     },
     "metadata": {},
     "output_type": "display_data"
    },
    {
     "data": {
      "text/html": [
       "<table class=\"dataframe\">\n",
       "<caption>A data.frame: 6 × 13</caption>\n",
       "<thead>\n",
       "\t<tr><th></th><th scope=col>Ship.Mode</th><th scope=col>Segment</th><th scope=col>Country</th><th scope=col>City</th><th scope=col>State</th><th scope=col>Postal.Code</th><th scope=col>Region</th><th scope=col>Category</th><th scope=col>Sub.Category</th><th scope=col>Sales</th><th scope=col>Quantity</th><th scope=col>Discount</th><th scope=col>Profit</th></tr>\n",
       "\t<tr><th></th><th scope=col>&lt;fct&gt;</th><th scope=col>&lt;fct&gt;</th><th scope=col>&lt;fct&gt;</th><th scope=col>&lt;fct&gt;</th><th scope=col>&lt;fct&gt;</th><th scope=col>&lt;int&gt;</th><th scope=col>&lt;fct&gt;</th><th scope=col>&lt;fct&gt;</th><th scope=col>&lt;fct&gt;</th><th scope=col>&lt;dbl&gt;</th><th scope=col>&lt;int&gt;</th><th scope=col>&lt;dbl&gt;</th><th scope=col>&lt;dbl&gt;</th></tr>\n",
       "</thead>\n",
       "<tbody>\n",
       "\t<tr><th scope=row>9989</th><td>Standard Class</td><td>Corporate</td><td>United States</td><td>Athens     </td><td>Georgia   </td><td>30605</td><td>South</td><td>Technology     </td><td>Phones     </td><td>206.100</td><td>5</td><td>0.0</td><td>55.6470</td></tr>\n",
       "\t<tr><th scope=row>9990</th><td>Second Class  </td><td>Consumer </td><td>United States</td><td>Miami      </td><td>Florida   </td><td>33180</td><td>South</td><td>Furniture      </td><td>Furnishings</td><td> 25.248</td><td>3</td><td>0.2</td><td> 4.1028</td></tr>\n",
       "\t<tr><th scope=row>9991</th><td>Standard Class</td><td>Consumer </td><td>United States</td><td>Costa Mesa </td><td>California</td><td>92627</td><td>West </td><td>Furniture      </td><td>Furnishings</td><td> 91.960</td><td>2</td><td>0.0</td><td>15.6332</td></tr>\n",
       "\t<tr><th scope=row>9992</th><td>Standard Class</td><td>Consumer </td><td>United States</td><td>Costa Mesa </td><td>California</td><td>92627</td><td>West </td><td>Technology     </td><td>Phones     </td><td>258.576</td><td>2</td><td>0.2</td><td>19.3932</td></tr>\n",
       "\t<tr><th scope=row>9993</th><td>Standard Class</td><td>Consumer </td><td>United States</td><td>Costa Mesa </td><td>California</td><td>92627</td><td>West </td><td>Office Supplies</td><td>Paper      </td><td> 29.600</td><td>4</td><td>0.0</td><td>13.3200</td></tr>\n",
       "\t<tr><th scope=row>9994</th><td>Second Class  </td><td>Consumer </td><td>United States</td><td>Westminster</td><td>California</td><td>92683</td><td>West </td><td>Office Supplies</td><td>Appliances </td><td>243.160</td><td>2</td><td>0.0</td><td>72.9480</td></tr>\n",
       "</tbody>\n",
       "</table>\n"
      ],
      "text/latex": [
       "A data.frame: 6 × 13\n",
       "\\begin{tabular}{r|lllllllllllll}\n",
       "  & Ship.Mode & Segment & Country & City & State & Postal.Code & Region & Category & Sub.Category & Sales & Quantity & Discount & Profit\\\\\n",
       "  & <fct> & <fct> & <fct> & <fct> & <fct> & <int> & <fct> & <fct> & <fct> & <dbl> & <int> & <dbl> & <dbl>\\\\\n",
       "\\hline\n",
       "\t9989 & Standard Class & Corporate & United States & Athens      & Georgia    & 30605 & South & Technology      & Phones      & 206.100 & 5 & 0.0 & 55.6470\\\\\n",
       "\t9990 & Second Class   & Consumer  & United States & Miami       & Florida    & 33180 & South & Furniture       & Furnishings &  25.248 & 3 & 0.2 &  4.1028\\\\\n",
       "\t9991 & Standard Class & Consumer  & United States & Costa Mesa  & California & 92627 & West  & Furniture       & Furnishings &  91.960 & 2 & 0.0 & 15.6332\\\\\n",
       "\t9992 & Standard Class & Consumer  & United States & Costa Mesa  & California & 92627 & West  & Technology      & Phones      & 258.576 & 2 & 0.2 & 19.3932\\\\\n",
       "\t9993 & Standard Class & Consumer  & United States & Costa Mesa  & California & 92627 & West  & Office Supplies & Paper       &  29.600 & 4 & 0.0 & 13.3200\\\\\n",
       "\t9994 & Second Class   & Consumer  & United States & Westminster & California & 92683 & West  & Office Supplies & Appliances  & 243.160 & 2 & 0.0 & 72.9480\\\\\n",
       "\\end{tabular}\n"
      ],
      "text/markdown": [
       "\n",
       "A data.frame: 6 × 13\n",
       "\n",
       "| <!--/--> | Ship.Mode &lt;fct&gt; | Segment &lt;fct&gt; | Country &lt;fct&gt; | City &lt;fct&gt; | State &lt;fct&gt; | Postal.Code &lt;int&gt; | Region &lt;fct&gt; | Category &lt;fct&gt; | Sub.Category &lt;fct&gt; | Sales &lt;dbl&gt; | Quantity &lt;int&gt; | Discount &lt;dbl&gt; | Profit &lt;dbl&gt; |\n",
       "|---|---|---|---|---|---|---|---|---|---|---|---|---|---|\n",
       "| 9989 | Standard Class | Corporate | United States | Athens      | Georgia    | 30605 | South | Technology      | Phones      | 206.100 | 5 | 0.0 | 55.6470 |\n",
       "| 9990 | Second Class   | Consumer  | United States | Miami       | Florida    | 33180 | South | Furniture       | Furnishings |  25.248 | 3 | 0.2 |  4.1028 |\n",
       "| 9991 | Standard Class | Consumer  | United States | Costa Mesa  | California | 92627 | West  | Furniture       | Furnishings |  91.960 | 2 | 0.0 | 15.6332 |\n",
       "| 9992 | Standard Class | Consumer  | United States | Costa Mesa  | California | 92627 | West  | Technology      | Phones      | 258.576 | 2 | 0.2 | 19.3932 |\n",
       "| 9993 | Standard Class | Consumer  | United States | Costa Mesa  | California | 92627 | West  | Office Supplies | Paper       |  29.600 | 4 | 0.0 | 13.3200 |\n",
       "| 9994 | Second Class   | Consumer  | United States | Westminster | California | 92683 | West  | Office Supplies | Appliances  | 243.160 | 2 | 0.0 | 72.9480 |\n",
       "\n"
      ],
      "text/plain": [
       "     Ship.Mode      Segment   Country       City        State      Postal.Code\n",
       "9989 Standard Class Corporate United States Athens      Georgia    30605      \n",
       "9990 Second Class   Consumer  United States Miami       Florida    33180      \n",
       "9991 Standard Class Consumer  United States Costa Mesa  California 92627      \n",
       "9992 Standard Class Consumer  United States Costa Mesa  California 92627      \n",
       "9993 Standard Class Consumer  United States Costa Mesa  California 92627      \n",
       "9994 Second Class   Consumer  United States Westminster California 92683      \n",
       "     Region Category        Sub.Category Sales   Quantity Discount Profit \n",
       "9989 South  Technology      Phones       206.100 5        0.0      55.6470\n",
       "9990 South  Furniture       Furnishings   25.248 3        0.2       4.1028\n",
       "9991 West   Furniture       Furnishings   91.960 2        0.0      15.6332\n",
       "9992 West   Technology      Phones       258.576 2        0.2      19.3932\n",
       "9993 West   Office Supplies Paper         29.600 4        0.0      13.3200\n",
       "9994 West   Office Supplies Appliances   243.160 2        0.0      72.9480"
      ]
     },
     "metadata": {},
     "output_type": "display_data"
    }
   ],
   "source": [
    "superstore <- read.csv(\"C:\\\\Users\\\\ADMIN\\\\Downloads\\\\SampleSuperstore.csv\")\n",
    "head(superstore)\n",
    "tail(superstore)"
   ]
  },
  {
   "cell_type": "markdown",
   "id": "c2af2301",
   "metadata": {},
   "source": [
    "##### We can clearly see that it is a dataframe of 9994 rows and 13 columns"
   ]
  },
  {
   "cell_type": "markdown",
   "id": "2bac378b",
   "metadata": {},
   "source": [
    "## Step 3: Finding more information about dataset"
   ]
  },
  {
   "cell_type": "code",
   "execution_count": 82,
   "id": "8b43d9cd",
   "metadata": {},
   "outputs": [
    {
     "data": {
      "text/plain": [
       "          Ship.Mode           Segment              Country    \n",
       " First Class   :1538   Consumer   :5191   United States:9994  \n",
       " Same Day      : 543   Corporate  :3020                       \n",
       " Second Class  :1945   Home Office:1783                       \n",
       " Standard Class:5968                                          \n",
       "                                                              \n",
       "                                                              \n",
       "                                                              \n",
       "            City               State       Postal.Code        Region    \n",
       " New York City: 915   California  :2001   Min.   : 1040   Central:2323  \n",
       " Los Angeles  : 747   New York    :1128   1st Qu.:23223   East   :2848  \n",
       " Philadelphia : 537   Texas       : 985   Median :56431   South  :1620  \n",
       " San Francisco: 510   Pennsylvania: 587   Mean   :55190   West   :3203  \n",
       " Seattle      : 428   Washington  : 506   3rd Qu.:90008                 \n",
       " Houston      : 377   Illinois    : 492   Max.   :99301                 \n",
       " (Other)      :6480   (Other)     :4295                                 \n",
       "            Category         Sub.Category      Sales              Quantity    \n",
       " Furniture      :2121   Binders    :1523   Min.   :    0.444   Min.   : 1.00  \n",
       " Office Supplies:6026   Paper      :1370   1st Qu.:   17.280   1st Qu.: 2.00  \n",
       " Technology     :1847   Furnishings: 957   Median :   54.490   Median : 3.00  \n",
       "                        Phones     : 889   Mean   :  229.858   Mean   : 3.79  \n",
       "                        Storage    : 846   3rd Qu.:  209.940   3rd Qu.: 5.00  \n",
       "                        Art        : 796   Max.   :22638.480   Max.   :14.00  \n",
       "                        (Other)    :3613                                      \n",
       "    Discount          Profit         \n",
       " Min.   :0.0000   Min.   :-6599.978  \n",
       " 1st Qu.:0.0000   1st Qu.:    1.729  \n",
       " Median :0.2000   Median :    8.666  \n",
       " Mean   :0.1562   Mean   :   28.657  \n",
       " 3rd Qu.:0.2000   3rd Qu.:   29.364  \n",
       " Max.   :0.8000   Max.   : 8399.976  \n",
       "                                     "
      ]
     },
     "metadata": {},
     "output_type": "display_data"
    }
   ],
   "source": [
    "summary(superstore)"
   ]
  },
  {
   "cell_type": "markdown",
   "id": "eb791018",
   "metadata": {},
   "source": [
    "## Step 4: Data Preparing and Cleaning "
   ]
  },
  {
   "cell_type": "code",
   "execution_count": 86,
   "id": "770f932a",
   "metadata": {},
   "outputs": [
    {
     "data": {
      "text/html": [
       "FALSE"
      ],
      "text/latex": [
       "FALSE"
      ],
      "text/markdown": [
       "FALSE"
      ],
      "text/plain": [
       "[1] FALSE"
      ]
     },
     "metadata": {},
     "output_type": "display_data"
    }
   ],
   "source": [
    "#To check if there are any null values\n",
    "is.null(superstore)"
   ]
  },
  {
   "cell_type": "code",
   "execution_count": 87,
   "id": "4dcaf631",
   "metadata": {},
   "outputs": [
    {
     "data": {
      "text/html": [
       "<table class=\"dataframe\">\n",
       "<caption>A data.frame: 9977 × 11</caption>\n",
       "<thead>\n",
       "\t<tr><th scope=col>Ship.Mode</th><th scope=col>Segment</th><th scope=col>City</th><th scope=col>State</th><th scope=col>Region</th><th scope=col>Category</th><th scope=col>Sub.Category</th><th scope=col>Sales</th><th scope=col>Quantity</th><th scope=col>Discount</th><th scope=col>Profit</th></tr>\n",
       "\t<tr><th scope=col>&lt;fct&gt;</th><th scope=col>&lt;fct&gt;</th><th scope=col>&lt;fct&gt;</th><th scope=col>&lt;fct&gt;</th><th scope=col>&lt;fct&gt;</th><th scope=col>&lt;fct&gt;</th><th scope=col>&lt;fct&gt;</th><th scope=col>&lt;dbl&gt;</th><th scope=col>&lt;int&gt;</th><th scope=col>&lt;dbl&gt;</th><th scope=col>&lt;dbl&gt;</th></tr>\n",
       "</thead>\n",
       "<tbody>\n",
       "\t<tr><td>Second Class  </td><td>Consumer   </td><td>Henderson      </td><td>Kentucky      </td><td>South  </td><td>Furniture      </td><td>Bookcases  </td><td> 261.9600</td><td>2</td><td>0.00</td><td>   41.9136</td></tr>\n",
       "\t<tr><td>Second Class  </td><td>Consumer   </td><td>Henderson      </td><td>Kentucky      </td><td>South  </td><td>Furniture      </td><td>Chairs     </td><td> 731.9400</td><td>3</td><td>0.00</td><td>  219.5820</td></tr>\n",
       "\t<tr><td>Second Class  </td><td>Corporate  </td><td>Los Angeles    </td><td>California    </td><td>West   </td><td>Office Supplies</td><td>Labels     </td><td>  14.6200</td><td>2</td><td>0.00</td><td>    6.8714</td></tr>\n",
       "\t<tr><td>Standard Class</td><td>Consumer   </td><td>Fort Lauderdale</td><td>Florida       </td><td>South  </td><td>Furniture      </td><td>Tables     </td><td> 957.5775</td><td>5</td><td>0.45</td><td> -383.0310</td></tr>\n",
       "\t<tr><td>Standard Class</td><td>Consumer   </td><td>Fort Lauderdale</td><td>Florida       </td><td>South  </td><td>Office Supplies</td><td>Storage    </td><td>  22.3680</td><td>2</td><td>0.20</td><td>    2.5164</td></tr>\n",
       "\t<tr><td>Standard Class</td><td>Consumer   </td><td>Los Angeles    </td><td>California    </td><td>West   </td><td>Furniture      </td><td>Furnishings</td><td>  48.8600</td><td>7</td><td>0.00</td><td>   14.1694</td></tr>\n",
       "\t<tr><td>Standard Class</td><td>Consumer   </td><td>Los Angeles    </td><td>California    </td><td>West   </td><td>Office Supplies</td><td>Art        </td><td>   7.2800</td><td>4</td><td>0.00</td><td>    1.9656</td></tr>\n",
       "\t<tr><td>Standard Class</td><td>Consumer   </td><td>Los Angeles    </td><td>California    </td><td>West   </td><td>Technology     </td><td>Phones     </td><td> 907.1520</td><td>6</td><td>0.20</td><td>   90.7152</td></tr>\n",
       "\t<tr><td>Standard Class</td><td>Consumer   </td><td>Los Angeles    </td><td>California    </td><td>West   </td><td>Office Supplies</td><td>Binders    </td><td>  18.5040</td><td>3</td><td>0.20</td><td>    5.7825</td></tr>\n",
       "\t<tr><td>Standard Class</td><td>Consumer   </td><td>Los Angeles    </td><td>California    </td><td>West   </td><td>Office Supplies</td><td>Appliances </td><td> 114.9000</td><td>5</td><td>0.00</td><td>   34.4700</td></tr>\n",
       "\t<tr><td>Standard Class</td><td>Consumer   </td><td>Los Angeles    </td><td>California    </td><td>West   </td><td>Furniture      </td><td>Tables     </td><td>1706.1840</td><td>9</td><td>0.20</td><td>   85.3092</td></tr>\n",
       "\t<tr><td>Standard Class</td><td>Consumer   </td><td>Los Angeles    </td><td>California    </td><td>West   </td><td>Technology     </td><td>Phones     </td><td> 911.4240</td><td>4</td><td>0.20</td><td>   68.3568</td></tr>\n",
       "\t<tr><td>Standard Class</td><td>Consumer   </td><td>Concord        </td><td>North Carolina</td><td>South  </td><td>Office Supplies</td><td>Paper      </td><td>  15.5520</td><td>3</td><td>0.20</td><td>    5.4432</td></tr>\n",
       "\t<tr><td>Standard Class</td><td>Consumer   </td><td>Seattle        </td><td>Washington    </td><td>West   </td><td>Office Supplies</td><td>Binders    </td><td> 407.9760</td><td>3</td><td>0.20</td><td>  132.5922</td></tr>\n",
       "\t<tr><td>Standard Class</td><td>Home Office</td><td>Fort Worth     </td><td>Texas         </td><td>Central</td><td>Office Supplies</td><td>Appliances </td><td>  68.8100</td><td>5</td><td>0.80</td><td> -123.8580</td></tr>\n",
       "\t<tr><td>Standard Class</td><td>Home Office</td><td>Fort Worth     </td><td>Texas         </td><td>Central</td><td>Office Supplies</td><td>Binders    </td><td>   2.5440</td><td>3</td><td>0.80</td><td>   -3.8160</td></tr>\n",
       "\t<tr><td>Standard Class</td><td>Consumer   </td><td>Madison        </td><td>Wisconsin     </td><td>Central</td><td>Office Supplies</td><td>Storage    </td><td> 665.8800</td><td>6</td><td>0.00</td><td>   13.3176</td></tr>\n",
       "\t<tr><td>Second Class  </td><td>Consumer   </td><td>West Jordan    </td><td>Utah          </td><td>West   </td><td>Office Supplies</td><td>Storage    </td><td>  55.5000</td><td>2</td><td>0.00</td><td>    9.9900</td></tr>\n",
       "\t<tr><td>Second Class  </td><td>Consumer   </td><td>San Francisco  </td><td>California    </td><td>West   </td><td>Office Supplies</td><td>Art        </td><td>   8.5600</td><td>2</td><td>0.00</td><td>    2.4824</td></tr>\n",
       "\t<tr><td>Second Class  </td><td>Consumer   </td><td>San Francisco  </td><td>California    </td><td>West   </td><td>Technology     </td><td>Phones     </td><td> 213.4800</td><td>3</td><td>0.20</td><td>   16.0110</td></tr>\n",
       "\t<tr><td>Second Class  </td><td>Consumer   </td><td>San Francisco  </td><td>California    </td><td>West   </td><td>Office Supplies</td><td>Binders    </td><td>  22.7200</td><td>4</td><td>0.20</td><td>    7.3840</td></tr>\n",
       "\t<tr><td>Standard Class</td><td>Corporate  </td><td>Fremont        </td><td>Nebraska      </td><td>Central</td><td>Office Supplies</td><td>Art        </td><td>  19.4600</td><td>7</td><td>0.00</td><td>    5.0596</td></tr>\n",
       "\t<tr><td>Standard Class</td><td>Corporate  </td><td>Fremont        </td><td>Nebraska      </td><td>Central</td><td>Office Supplies</td><td>Appliances </td><td>  60.3400</td><td>7</td><td>0.00</td><td>   15.6884</td></tr>\n",
       "\t<tr><td>Second Class  </td><td>Consumer   </td><td>Philadelphia   </td><td>Pennsylvania  </td><td>East   </td><td>Furniture      </td><td>Chairs     </td><td>  71.3720</td><td>2</td><td>0.30</td><td>   -1.0196</td></tr>\n",
       "\t<tr><td>Standard Class</td><td>Consumer   </td><td>Orem           </td><td>Utah          </td><td>West   </td><td>Furniture      </td><td>Tables     </td><td>1044.6300</td><td>3</td><td>0.00</td><td>  240.2649</td></tr>\n",
       "\t<tr><td>Second Class  </td><td>Consumer   </td><td>Los Angeles    </td><td>California    </td><td>West   </td><td>Office Supplies</td><td>Binders    </td><td>  11.6480</td><td>2</td><td>0.20</td><td>    4.2224</td></tr>\n",
       "\t<tr><td>Second Class  </td><td>Consumer   </td><td>Los Angeles    </td><td>California    </td><td>West   </td><td>Technology     </td><td>Accessories</td><td>  90.5700</td><td>3</td><td>0.00</td><td>   11.7741</td></tr>\n",
       "\t<tr><td>Standard Class</td><td>Consumer   </td><td>Philadelphia   </td><td>Pennsylvania  </td><td>East   </td><td>Furniture      </td><td>Bookcases  </td><td>3083.4300</td><td>7</td><td>0.50</td><td>-1665.0522</td></tr>\n",
       "\t<tr><td>Standard Class</td><td>Consumer   </td><td>Philadelphia   </td><td>Pennsylvania  </td><td>East   </td><td>Office Supplies</td><td>Binders    </td><td>   9.6180</td><td>2</td><td>0.70</td><td>   -7.0532</td></tr>\n",
       "\t<tr><td>Standard Class</td><td>Consumer   </td><td>Philadelphia   </td><td>Pennsylvania  </td><td>East   </td><td>Furniture      </td><td>Furnishings</td><td> 124.2000</td><td>3</td><td>0.20</td><td>   15.5250</td></tr>\n",
       "\t<tr><td>...</td><td>...</td><td>...</td><td>...</td><td>...</td><td>...</td><td>...</td><td>...</td><td>...</td><td>...</td><td>...</td></tr>\n",
       "\t<tr><td>Second Class  </td><td>Corporate  </td><td>Newark      </td><td>Delaware  </td><td>East   </td><td>Furniture      </td><td>Furnishings</td><td> 13.400</td><td> 1</td><td>0.0</td><td>  6.4320</td></tr>\n",
       "\t<tr><td>Second Class  </td><td>Corporate  </td><td>Newark      </td><td>Delaware  </td><td>East   </td><td>Office Supplies</td><td>Paper      </td><td>  4.980</td><td> 1</td><td>0.0</td><td>  2.3406</td></tr>\n",
       "\t<tr><td>Second Class  </td><td>Corporate  </td><td>Newark      </td><td>Delaware  </td><td>East   </td><td>Office Supplies</td><td>Envelopes  </td><td>109.690</td><td> 7</td><td>0.0</td><td> 51.5543</td></tr>\n",
       "\t<tr><td>Standard Class</td><td>Consumer   </td><td>Plainfield  </td><td>New Jersey</td><td>East   </td><td>Office Supplies</td><td>Binders    </td><td> 40.200</td><td> 5</td><td>0.0</td><td> 18.0900</td></tr>\n",
       "\t<tr><td>Standard Class</td><td>Consumer   </td><td>Plainfield  </td><td>New Jersey</td><td>East   </td><td>Office Supplies</td><td>Binders    </td><td>735.980</td><td> 2</td><td>0.0</td><td>331.1910</td></tr>\n",
       "\t<tr><td>Standard Class</td><td>Consumer   </td><td>Plainfield  </td><td>New Jersey</td><td>East   </td><td>Office Supplies</td><td>Appliances </td><td> 22.750</td><td> 7</td><td>0.0</td><td>  6.5975</td></tr>\n",
       "\t<tr><td>Standard Class</td><td>Home Office</td><td>Smyrna      </td><td>Georgia   </td><td>South  </td><td>Office Supplies</td><td>Binders    </td><td>119.560</td><td> 2</td><td>0.0</td><td> 54.9976</td></tr>\n",
       "\t<tr><td>Standard Class</td><td>Home Office</td><td>Smyrna      </td><td>Georgia   </td><td>South  </td><td>Office Supplies</td><td>Art        </td><td>140.750</td><td> 5</td><td>0.0</td><td> 42.2250</td></tr>\n",
       "\t<tr><td>Standard Class</td><td>Consumer   </td><td>Houston     </td><td>Texas     </td><td>Central</td><td>Office Supplies</td><td>Envelopes  </td><td> 99.568</td><td> 2</td><td>0.2</td><td> 33.6042</td></tr>\n",
       "\t<tr><td>Standard Class</td><td>Home Office</td><td>Los Angeles </td><td>California</td><td>West   </td><td>Technology     </td><td>Phones     </td><td>271.960</td><td> 5</td><td>0.2</td><td> 27.1960</td></tr>\n",
       "\t<tr><td>Standard Class</td><td>Home Office</td><td>Los Angeles </td><td>California</td><td>West   </td><td>Office Supplies</td><td>Art        </td><td> 18.690</td><td> 7</td><td>0.0</td><td>  5.2332</td></tr>\n",
       "\t<tr><td>Standard Class</td><td>Home Office</td><td>Los Angeles </td><td>California</td><td>West   </td><td>Office Supplies</td><td>Paper      </td><td> 13.360</td><td> 2</td><td>0.0</td><td>  6.4128</td></tr>\n",
       "\t<tr><td>Standard Class</td><td>Home Office</td><td>Los Angeles </td><td>California</td><td>West   </td><td>Technology     </td><td>Phones     </td><td>249.584</td><td> 2</td><td>0.2</td><td> 31.1980</td></tr>\n",
       "\t<tr><td>Standard Class</td><td>Home Office</td><td>Los Angeles </td><td>California</td><td>West   </td><td>Office Supplies</td><td>Fasteners  </td><td> 13.860</td><td> 7</td><td>0.0</td><td>  0.0000</td></tr>\n",
       "\t<tr><td>Standard Class</td><td>Home Office</td><td>Los Angeles </td><td>California</td><td>West   </td><td>Office Supplies</td><td>Binders    </td><td> 13.376</td><td> 4</td><td>0.2</td><td>  4.6816</td></tr>\n",
       "\t<tr><td>Standard Class</td><td>Home Office</td><td>Los Angeles </td><td>California</td><td>West   </td><td>Office Supplies</td><td>Binders    </td><td>437.472</td><td>14</td><td>0.2</td><td>153.1152</td></tr>\n",
       "\t<tr><td>Second Class  </td><td>Consumer   </td><td>Lafayette   </td><td>Louisiana </td><td>South  </td><td>Furniture      </td><td>Tables     </td><td> 85.980</td><td> 1</td><td>0.0</td><td> 22.3548</td></tr>\n",
       "\t<tr><td>First Class   </td><td>Consumer   </td><td>Fairfield   </td><td>Ohio      </td><td>East   </td><td>Office Supplies</td><td>Labels     </td><td> 16.520</td><td> 5</td><td>0.2</td><td>  5.3690</td></tr>\n",
       "\t<tr><td>Standard Class</td><td>Consumer   </td><td>Grand Rapids</td><td>Michigan  </td><td>Central</td><td>Office Supplies</td><td>Paper      </td><td> 35.560</td><td> 7</td><td>0.0</td><td> 16.7132</td></tr>\n",
       "\t<tr><td>Standard Class</td><td>Consumer   </td><td>Grand Rapids</td><td>Michigan  </td><td>Central</td><td>Technology     </td><td>Phones     </td><td> 97.980</td><td> 2</td><td>0.0</td><td> 27.4344</td></tr>\n",
       "\t<tr><td>Standard Class</td><td>Consumer   </td><td>Long Beach  </td><td>New York  </td><td>East   </td><td>Office Supplies</td><td>Labels     </td><td> 31.500</td><td>10</td><td>0.0</td><td> 15.1200</td></tr>\n",
       "\t<tr><td>Standard Class</td><td>Consumer   </td><td>Long Beach  </td><td>New York  </td><td>East   </td><td>Office Supplies</td><td>Supplies   </td><td> 55.600</td><td> 4</td><td>0.0</td><td> 16.1240</td></tr>\n",
       "\t<tr><td>Standard Class</td><td>Consumer   </td><td>Los Angeles </td><td>California</td><td>West   </td><td>Technology     </td><td>Accessories</td><td> 36.240</td><td> 1</td><td>0.0</td><td> 15.2208</td></tr>\n",
       "\t<tr><td>Standard Class</td><td>Corporate  </td><td>Athens      </td><td>Georgia   </td><td>South  </td><td>Technology     </td><td>Accessories</td><td> 79.990</td><td> 1</td><td>0.0</td><td> 28.7964</td></tr>\n",
       "\t<tr><td>Standard Class</td><td>Corporate  </td><td>Athens      </td><td>Georgia   </td><td>South  </td><td>Technology     </td><td>Phones     </td><td>206.100</td><td> 5</td><td>0.0</td><td> 55.6470</td></tr>\n",
       "\t<tr><td>Second Class  </td><td>Consumer   </td><td>Miami       </td><td>Florida   </td><td>South  </td><td>Furniture      </td><td>Furnishings</td><td> 25.248</td><td> 3</td><td>0.2</td><td>  4.1028</td></tr>\n",
       "\t<tr><td>Standard Class</td><td>Consumer   </td><td>Costa Mesa  </td><td>California</td><td>West   </td><td>Furniture      </td><td>Furnishings</td><td> 91.960</td><td> 2</td><td>0.0</td><td> 15.6332</td></tr>\n",
       "\t<tr><td>Standard Class</td><td>Consumer   </td><td>Costa Mesa  </td><td>California</td><td>West   </td><td>Technology     </td><td>Phones     </td><td>258.576</td><td> 2</td><td>0.2</td><td> 19.3932</td></tr>\n",
       "\t<tr><td>Standard Class</td><td>Consumer   </td><td>Costa Mesa  </td><td>California</td><td>West   </td><td>Office Supplies</td><td>Paper      </td><td> 29.600</td><td> 4</td><td>0.0</td><td> 13.3200</td></tr>\n",
       "\t<tr><td>Second Class  </td><td>Consumer   </td><td>Westminster </td><td>California</td><td>West   </td><td>Office Supplies</td><td>Appliances </td><td>243.160</td><td> 2</td><td>0.0</td><td> 72.9480</td></tr>\n",
       "</tbody>\n",
       "</table>\n"
      ],
      "text/latex": [
       "A data.frame: 9977 × 11\n",
       "\\begin{tabular}{lllllllllll}\n",
       " Ship.Mode & Segment & City & State & Region & Category & Sub.Category & Sales & Quantity & Discount & Profit\\\\\n",
       " <fct> & <fct> & <fct> & <fct> & <fct> & <fct> & <fct> & <dbl> & <int> & <dbl> & <dbl>\\\\\n",
       "\\hline\n",
       "\t Second Class   & Consumer    & Henderson       & Kentucky       & South   & Furniture       & Bookcases   &  261.9600 & 2 & 0.00 &    41.9136\\\\\n",
       "\t Second Class   & Consumer    & Henderson       & Kentucky       & South   & Furniture       & Chairs      &  731.9400 & 3 & 0.00 &   219.5820\\\\\n",
       "\t Second Class   & Corporate   & Los Angeles     & California     & West    & Office Supplies & Labels      &   14.6200 & 2 & 0.00 &     6.8714\\\\\n",
       "\t Standard Class & Consumer    & Fort Lauderdale & Florida        & South   & Furniture       & Tables      &  957.5775 & 5 & 0.45 &  -383.0310\\\\\n",
       "\t Standard Class & Consumer    & Fort Lauderdale & Florida        & South   & Office Supplies & Storage     &   22.3680 & 2 & 0.20 &     2.5164\\\\\n",
       "\t Standard Class & Consumer    & Los Angeles     & California     & West    & Furniture       & Furnishings &   48.8600 & 7 & 0.00 &    14.1694\\\\\n",
       "\t Standard Class & Consumer    & Los Angeles     & California     & West    & Office Supplies & Art         &    7.2800 & 4 & 0.00 &     1.9656\\\\\n",
       "\t Standard Class & Consumer    & Los Angeles     & California     & West    & Technology      & Phones      &  907.1520 & 6 & 0.20 &    90.7152\\\\\n",
       "\t Standard Class & Consumer    & Los Angeles     & California     & West    & Office Supplies & Binders     &   18.5040 & 3 & 0.20 &     5.7825\\\\\n",
       "\t Standard Class & Consumer    & Los Angeles     & California     & West    & Office Supplies & Appliances  &  114.9000 & 5 & 0.00 &    34.4700\\\\\n",
       "\t Standard Class & Consumer    & Los Angeles     & California     & West    & Furniture       & Tables      & 1706.1840 & 9 & 0.20 &    85.3092\\\\\n",
       "\t Standard Class & Consumer    & Los Angeles     & California     & West    & Technology      & Phones      &  911.4240 & 4 & 0.20 &    68.3568\\\\\n",
       "\t Standard Class & Consumer    & Concord         & North Carolina & South   & Office Supplies & Paper       &   15.5520 & 3 & 0.20 &     5.4432\\\\\n",
       "\t Standard Class & Consumer    & Seattle         & Washington     & West    & Office Supplies & Binders     &  407.9760 & 3 & 0.20 &   132.5922\\\\\n",
       "\t Standard Class & Home Office & Fort Worth      & Texas          & Central & Office Supplies & Appliances  &   68.8100 & 5 & 0.80 &  -123.8580\\\\\n",
       "\t Standard Class & Home Office & Fort Worth      & Texas          & Central & Office Supplies & Binders     &    2.5440 & 3 & 0.80 &    -3.8160\\\\\n",
       "\t Standard Class & Consumer    & Madison         & Wisconsin      & Central & Office Supplies & Storage     &  665.8800 & 6 & 0.00 &    13.3176\\\\\n",
       "\t Second Class   & Consumer    & West Jordan     & Utah           & West    & Office Supplies & Storage     &   55.5000 & 2 & 0.00 &     9.9900\\\\\n",
       "\t Second Class   & Consumer    & San Francisco   & California     & West    & Office Supplies & Art         &    8.5600 & 2 & 0.00 &     2.4824\\\\\n",
       "\t Second Class   & Consumer    & San Francisco   & California     & West    & Technology      & Phones      &  213.4800 & 3 & 0.20 &    16.0110\\\\\n",
       "\t Second Class   & Consumer    & San Francisco   & California     & West    & Office Supplies & Binders     &   22.7200 & 4 & 0.20 &     7.3840\\\\\n",
       "\t Standard Class & Corporate   & Fremont         & Nebraska       & Central & Office Supplies & Art         &   19.4600 & 7 & 0.00 &     5.0596\\\\\n",
       "\t Standard Class & Corporate   & Fremont         & Nebraska       & Central & Office Supplies & Appliances  &   60.3400 & 7 & 0.00 &    15.6884\\\\\n",
       "\t Second Class   & Consumer    & Philadelphia    & Pennsylvania   & East    & Furniture       & Chairs      &   71.3720 & 2 & 0.30 &    -1.0196\\\\\n",
       "\t Standard Class & Consumer    & Orem            & Utah           & West    & Furniture       & Tables      & 1044.6300 & 3 & 0.00 &   240.2649\\\\\n",
       "\t Second Class   & Consumer    & Los Angeles     & California     & West    & Office Supplies & Binders     &   11.6480 & 2 & 0.20 &     4.2224\\\\\n",
       "\t Second Class   & Consumer    & Los Angeles     & California     & West    & Technology      & Accessories &   90.5700 & 3 & 0.00 &    11.7741\\\\\n",
       "\t Standard Class & Consumer    & Philadelphia    & Pennsylvania   & East    & Furniture       & Bookcases   & 3083.4300 & 7 & 0.50 & -1665.0522\\\\\n",
       "\t Standard Class & Consumer    & Philadelphia    & Pennsylvania   & East    & Office Supplies & Binders     &    9.6180 & 2 & 0.70 &    -7.0532\\\\\n",
       "\t Standard Class & Consumer    & Philadelphia    & Pennsylvania   & East    & Furniture       & Furnishings &  124.2000 & 3 & 0.20 &    15.5250\\\\\n",
       "\t ... & ... & ... & ... & ... & ... & ... & ... & ... & ... & ...\\\\\n",
       "\t Second Class   & Corporate   & Newark       & Delaware   & East    & Furniture       & Furnishings &  13.400 &  1 & 0.0 &   6.4320\\\\\n",
       "\t Second Class   & Corporate   & Newark       & Delaware   & East    & Office Supplies & Paper       &   4.980 &  1 & 0.0 &   2.3406\\\\\n",
       "\t Second Class   & Corporate   & Newark       & Delaware   & East    & Office Supplies & Envelopes   & 109.690 &  7 & 0.0 &  51.5543\\\\\n",
       "\t Standard Class & Consumer    & Plainfield   & New Jersey & East    & Office Supplies & Binders     &  40.200 &  5 & 0.0 &  18.0900\\\\\n",
       "\t Standard Class & Consumer    & Plainfield   & New Jersey & East    & Office Supplies & Binders     & 735.980 &  2 & 0.0 & 331.1910\\\\\n",
       "\t Standard Class & Consumer    & Plainfield   & New Jersey & East    & Office Supplies & Appliances  &  22.750 &  7 & 0.0 &   6.5975\\\\\n",
       "\t Standard Class & Home Office & Smyrna       & Georgia    & South   & Office Supplies & Binders     & 119.560 &  2 & 0.0 &  54.9976\\\\\n",
       "\t Standard Class & Home Office & Smyrna       & Georgia    & South   & Office Supplies & Art         & 140.750 &  5 & 0.0 &  42.2250\\\\\n",
       "\t Standard Class & Consumer    & Houston      & Texas      & Central & Office Supplies & Envelopes   &  99.568 &  2 & 0.2 &  33.6042\\\\\n",
       "\t Standard Class & Home Office & Los Angeles  & California & West    & Technology      & Phones      & 271.960 &  5 & 0.2 &  27.1960\\\\\n",
       "\t Standard Class & Home Office & Los Angeles  & California & West    & Office Supplies & Art         &  18.690 &  7 & 0.0 &   5.2332\\\\\n",
       "\t Standard Class & Home Office & Los Angeles  & California & West    & Office Supplies & Paper       &  13.360 &  2 & 0.0 &   6.4128\\\\\n",
       "\t Standard Class & Home Office & Los Angeles  & California & West    & Technology      & Phones      & 249.584 &  2 & 0.2 &  31.1980\\\\\n",
       "\t Standard Class & Home Office & Los Angeles  & California & West    & Office Supplies & Fasteners   &  13.860 &  7 & 0.0 &   0.0000\\\\\n",
       "\t Standard Class & Home Office & Los Angeles  & California & West    & Office Supplies & Binders     &  13.376 &  4 & 0.2 &   4.6816\\\\\n",
       "\t Standard Class & Home Office & Los Angeles  & California & West    & Office Supplies & Binders     & 437.472 & 14 & 0.2 & 153.1152\\\\\n",
       "\t Second Class   & Consumer    & Lafayette    & Louisiana  & South   & Furniture       & Tables      &  85.980 &  1 & 0.0 &  22.3548\\\\\n",
       "\t First Class    & Consumer    & Fairfield    & Ohio       & East    & Office Supplies & Labels      &  16.520 &  5 & 0.2 &   5.3690\\\\\n",
       "\t Standard Class & Consumer    & Grand Rapids & Michigan   & Central & Office Supplies & Paper       &  35.560 &  7 & 0.0 &  16.7132\\\\\n",
       "\t Standard Class & Consumer    & Grand Rapids & Michigan   & Central & Technology      & Phones      &  97.980 &  2 & 0.0 &  27.4344\\\\\n",
       "\t Standard Class & Consumer    & Long Beach   & New York   & East    & Office Supplies & Labels      &  31.500 & 10 & 0.0 &  15.1200\\\\\n",
       "\t Standard Class & Consumer    & Long Beach   & New York   & East    & Office Supplies & Supplies    &  55.600 &  4 & 0.0 &  16.1240\\\\\n",
       "\t Standard Class & Consumer    & Los Angeles  & California & West    & Technology      & Accessories &  36.240 &  1 & 0.0 &  15.2208\\\\\n",
       "\t Standard Class & Corporate   & Athens       & Georgia    & South   & Technology      & Accessories &  79.990 &  1 & 0.0 &  28.7964\\\\\n",
       "\t Standard Class & Corporate   & Athens       & Georgia    & South   & Technology      & Phones      & 206.100 &  5 & 0.0 &  55.6470\\\\\n",
       "\t Second Class   & Consumer    & Miami        & Florida    & South   & Furniture       & Furnishings &  25.248 &  3 & 0.2 &   4.1028\\\\\n",
       "\t Standard Class & Consumer    & Costa Mesa   & California & West    & Furniture       & Furnishings &  91.960 &  2 & 0.0 &  15.6332\\\\\n",
       "\t Standard Class & Consumer    & Costa Mesa   & California & West    & Technology      & Phones      & 258.576 &  2 & 0.2 &  19.3932\\\\\n",
       "\t Standard Class & Consumer    & Costa Mesa   & California & West    & Office Supplies & Paper       &  29.600 &  4 & 0.0 &  13.3200\\\\\n",
       "\t Second Class   & Consumer    & Westminster  & California & West    & Office Supplies & Appliances  & 243.160 &  2 & 0.0 &  72.9480\\\\\n",
       "\\end{tabular}\n"
      ],
      "text/markdown": [
       "\n",
       "A data.frame: 9977 × 11\n",
       "\n",
       "| Ship.Mode &lt;fct&gt; | Segment &lt;fct&gt; | City &lt;fct&gt; | State &lt;fct&gt; | Region &lt;fct&gt; | Category &lt;fct&gt; | Sub.Category &lt;fct&gt; | Sales &lt;dbl&gt; | Quantity &lt;int&gt; | Discount &lt;dbl&gt; | Profit &lt;dbl&gt; |\n",
       "|---|---|---|---|---|---|---|---|---|---|---|\n",
       "| Second Class   | Consumer    | Henderson       | Kentucky       | South   | Furniture       | Bookcases   |  261.9600 | 2 | 0.00 |    41.9136 |\n",
       "| Second Class   | Consumer    | Henderson       | Kentucky       | South   | Furniture       | Chairs      |  731.9400 | 3 | 0.00 |   219.5820 |\n",
       "| Second Class   | Corporate   | Los Angeles     | California     | West    | Office Supplies | Labels      |   14.6200 | 2 | 0.00 |     6.8714 |\n",
       "| Standard Class | Consumer    | Fort Lauderdale | Florida        | South   | Furniture       | Tables      |  957.5775 | 5 | 0.45 |  -383.0310 |\n",
       "| Standard Class | Consumer    | Fort Lauderdale | Florida        | South   | Office Supplies | Storage     |   22.3680 | 2 | 0.20 |     2.5164 |\n",
       "| Standard Class | Consumer    | Los Angeles     | California     | West    | Furniture       | Furnishings |   48.8600 | 7 | 0.00 |    14.1694 |\n",
       "| Standard Class | Consumer    | Los Angeles     | California     | West    | Office Supplies | Art         |    7.2800 | 4 | 0.00 |     1.9656 |\n",
       "| Standard Class | Consumer    | Los Angeles     | California     | West    | Technology      | Phones      |  907.1520 | 6 | 0.20 |    90.7152 |\n",
       "| Standard Class | Consumer    | Los Angeles     | California     | West    | Office Supplies | Binders     |   18.5040 | 3 | 0.20 |     5.7825 |\n",
       "| Standard Class | Consumer    | Los Angeles     | California     | West    | Office Supplies | Appliances  |  114.9000 | 5 | 0.00 |    34.4700 |\n",
       "| Standard Class | Consumer    | Los Angeles     | California     | West    | Furniture       | Tables      | 1706.1840 | 9 | 0.20 |    85.3092 |\n",
       "| Standard Class | Consumer    | Los Angeles     | California     | West    | Technology      | Phones      |  911.4240 | 4 | 0.20 |    68.3568 |\n",
       "| Standard Class | Consumer    | Concord         | North Carolina | South   | Office Supplies | Paper       |   15.5520 | 3 | 0.20 |     5.4432 |\n",
       "| Standard Class | Consumer    | Seattle         | Washington     | West    | Office Supplies | Binders     |  407.9760 | 3 | 0.20 |   132.5922 |\n",
       "| Standard Class | Home Office | Fort Worth      | Texas          | Central | Office Supplies | Appliances  |   68.8100 | 5 | 0.80 |  -123.8580 |\n",
       "| Standard Class | Home Office | Fort Worth      | Texas          | Central | Office Supplies | Binders     |    2.5440 | 3 | 0.80 |    -3.8160 |\n",
       "| Standard Class | Consumer    | Madison         | Wisconsin      | Central | Office Supplies | Storage     |  665.8800 | 6 | 0.00 |    13.3176 |\n",
       "| Second Class   | Consumer    | West Jordan     | Utah           | West    | Office Supplies | Storage     |   55.5000 | 2 | 0.00 |     9.9900 |\n",
       "| Second Class   | Consumer    | San Francisco   | California     | West    | Office Supplies | Art         |    8.5600 | 2 | 0.00 |     2.4824 |\n",
       "| Second Class   | Consumer    | San Francisco   | California     | West    | Technology      | Phones      |  213.4800 | 3 | 0.20 |    16.0110 |\n",
       "| Second Class   | Consumer    | San Francisco   | California     | West    | Office Supplies | Binders     |   22.7200 | 4 | 0.20 |     7.3840 |\n",
       "| Standard Class | Corporate   | Fremont         | Nebraska       | Central | Office Supplies | Art         |   19.4600 | 7 | 0.00 |     5.0596 |\n",
       "| Standard Class | Corporate   | Fremont         | Nebraska       | Central | Office Supplies | Appliances  |   60.3400 | 7 | 0.00 |    15.6884 |\n",
       "| Second Class   | Consumer    | Philadelphia    | Pennsylvania   | East    | Furniture       | Chairs      |   71.3720 | 2 | 0.30 |    -1.0196 |\n",
       "| Standard Class | Consumer    | Orem            | Utah           | West    | Furniture       | Tables      | 1044.6300 | 3 | 0.00 |   240.2649 |\n",
       "| Second Class   | Consumer    | Los Angeles     | California     | West    | Office Supplies | Binders     |   11.6480 | 2 | 0.20 |     4.2224 |\n",
       "| Second Class   | Consumer    | Los Angeles     | California     | West    | Technology      | Accessories |   90.5700 | 3 | 0.00 |    11.7741 |\n",
       "| Standard Class | Consumer    | Philadelphia    | Pennsylvania   | East    | Furniture       | Bookcases   | 3083.4300 | 7 | 0.50 | -1665.0522 |\n",
       "| Standard Class | Consumer    | Philadelphia    | Pennsylvania   | East    | Office Supplies | Binders     |    9.6180 | 2 | 0.70 |    -7.0532 |\n",
       "| Standard Class | Consumer    | Philadelphia    | Pennsylvania   | East    | Furniture       | Furnishings |  124.2000 | 3 | 0.20 |    15.5250 |\n",
       "| ... | ... | ... | ... | ... | ... | ... | ... | ... | ... | ... |\n",
       "| Second Class   | Corporate   | Newark       | Delaware   | East    | Furniture       | Furnishings |  13.400 |  1 | 0.0 |   6.4320 |\n",
       "| Second Class   | Corporate   | Newark       | Delaware   | East    | Office Supplies | Paper       |   4.980 |  1 | 0.0 |   2.3406 |\n",
       "| Second Class   | Corporate   | Newark       | Delaware   | East    | Office Supplies | Envelopes   | 109.690 |  7 | 0.0 |  51.5543 |\n",
       "| Standard Class | Consumer    | Plainfield   | New Jersey | East    | Office Supplies | Binders     |  40.200 |  5 | 0.0 |  18.0900 |\n",
       "| Standard Class | Consumer    | Plainfield   | New Jersey | East    | Office Supplies | Binders     | 735.980 |  2 | 0.0 | 331.1910 |\n",
       "| Standard Class | Consumer    | Plainfield   | New Jersey | East    | Office Supplies | Appliances  |  22.750 |  7 | 0.0 |   6.5975 |\n",
       "| Standard Class | Home Office | Smyrna       | Georgia    | South   | Office Supplies | Binders     | 119.560 |  2 | 0.0 |  54.9976 |\n",
       "| Standard Class | Home Office | Smyrna       | Georgia    | South   | Office Supplies | Art         | 140.750 |  5 | 0.0 |  42.2250 |\n",
       "| Standard Class | Consumer    | Houston      | Texas      | Central | Office Supplies | Envelopes   |  99.568 |  2 | 0.2 |  33.6042 |\n",
       "| Standard Class | Home Office | Los Angeles  | California | West    | Technology      | Phones      | 271.960 |  5 | 0.2 |  27.1960 |\n",
       "| Standard Class | Home Office | Los Angeles  | California | West    | Office Supplies | Art         |  18.690 |  7 | 0.0 |   5.2332 |\n",
       "| Standard Class | Home Office | Los Angeles  | California | West    | Office Supplies | Paper       |  13.360 |  2 | 0.0 |   6.4128 |\n",
       "| Standard Class | Home Office | Los Angeles  | California | West    | Technology      | Phones      | 249.584 |  2 | 0.2 |  31.1980 |\n",
       "| Standard Class | Home Office | Los Angeles  | California | West    | Office Supplies | Fasteners   |  13.860 |  7 | 0.0 |   0.0000 |\n",
       "| Standard Class | Home Office | Los Angeles  | California | West    | Office Supplies | Binders     |  13.376 |  4 | 0.2 |   4.6816 |\n",
       "| Standard Class | Home Office | Los Angeles  | California | West    | Office Supplies | Binders     | 437.472 | 14 | 0.2 | 153.1152 |\n",
       "| Second Class   | Consumer    | Lafayette    | Louisiana  | South   | Furniture       | Tables      |  85.980 |  1 | 0.0 |  22.3548 |\n",
       "| First Class    | Consumer    | Fairfield    | Ohio       | East    | Office Supplies | Labels      |  16.520 |  5 | 0.2 |   5.3690 |\n",
       "| Standard Class | Consumer    | Grand Rapids | Michigan   | Central | Office Supplies | Paper       |  35.560 |  7 | 0.0 |  16.7132 |\n",
       "| Standard Class | Consumer    | Grand Rapids | Michigan   | Central | Technology      | Phones      |  97.980 |  2 | 0.0 |  27.4344 |\n",
       "| Standard Class | Consumer    | Long Beach   | New York   | East    | Office Supplies | Labels      |  31.500 | 10 | 0.0 |  15.1200 |\n",
       "| Standard Class | Consumer    | Long Beach   | New York   | East    | Office Supplies | Supplies    |  55.600 |  4 | 0.0 |  16.1240 |\n",
       "| Standard Class | Consumer    | Los Angeles  | California | West    | Technology      | Accessories |  36.240 |  1 | 0.0 |  15.2208 |\n",
       "| Standard Class | Corporate   | Athens       | Georgia    | South   | Technology      | Accessories |  79.990 |  1 | 0.0 |  28.7964 |\n",
       "| Standard Class | Corporate   | Athens       | Georgia    | South   | Technology      | Phones      | 206.100 |  5 | 0.0 |  55.6470 |\n",
       "| Second Class   | Consumer    | Miami        | Florida    | South   | Furniture       | Furnishings |  25.248 |  3 | 0.2 |   4.1028 |\n",
       "| Standard Class | Consumer    | Costa Mesa   | California | West    | Furniture       | Furnishings |  91.960 |  2 | 0.0 |  15.6332 |\n",
       "| Standard Class | Consumer    | Costa Mesa   | California | West    | Technology      | Phones      | 258.576 |  2 | 0.2 |  19.3932 |\n",
       "| Standard Class | Consumer    | Costa Mesa   | California | West    | Office Supplies | Paper       |  29.600 |  4 | 0.0 |  13.3200 |\n",
       "| Second Class   | Consumer    | Westminster  | California | West    | Office Supplies | Appliances  | 243.160 |  2 | 0.0 |  72.9480 |\n",
       "\n"
      ],
      "text/plain": [
       "     Ship.Mode      Segment     City            State          Region \n",
       "1    Second Class   Consumer    Henderson       Kentucky       South  \n",
       "2    Second Class   Consumer    Henderson       Kentucky       South  \n",
       "3    Second Class   Corporate   Los Angeles     California     West   \n",
       "4    Standard Class Consumer    Fort Lauderdale Florida        South  \n",
       "5    Standard Class Consumer    Fort Lauderdale Florida        South  \n",
       "6    Standard Class Consumer    Los Angeles     California     West   \n",
       "7    Standard Class Consumer    Los Angeles     California     West   \n",
       "8    Standard Class Consumer    Los Angeles     California     West   \n",
       "9    Standard Class Consumer    Los Angeles     California     West   \n",
       "10   Standard Class Consumer    Los Angeles     California     West   \n",
       "11   Standard Class Consumer    Los Angeles     California     West   \n",
       "12   Standard Class Consumer    Los Angeles     California     West   \n",
       "13   Standard Class Consumer    Concord         North Carolina South  \n",
       "14   Standard Class Consumer    Seattle         Washington     West   \n",
       "15   Standard Class Home Office Fort Worth      Texas          Central\n",
       "16   Standard Class Home Office Fort Worth      Texas          Central\n",
       "17   Standard Class Consumer    Madison         Wisconsin      Central\n",
       "18   Second Class   Consumer    West Jordan     Utah           West   \n",
       "19   Second Class   Consumer    San Francisco   California     West   \n",
       "20   Second Class   Consumer    San Francisco   California     West   \n",
       "21   Second Class   Consumer    San Francisco   California     West   \n",
       "22   Standard Class Corporate   Fremont         Nebraska       Central\n",
       "23   Standard Class Corporate   Fremont         Nebraska       Central\n",
       "24   Second Class   Consumer    Philadelphia    Pennsylvania   East   \n",
       "25   Standard Class Consumer    Orem            Utah           West   \n",
       "26   Second Class   Consumer    Los Angeles     California     West   \n",
       "27   Second Class   Consumer    Los Angeles     California     West   \n",
       "28   Standard Class Consumer    Philadelphia    Pennsylvania   East   \n",
       "29   Standard Class Consumer    Philadelphia    Pennsylvania   East   \n",
       "30   Standard Class Consumer    Philadelphia    Pennsylvania   East   \n",
       "...  ...            ...         ...             ...            ...    \n",
       "9948 Second Class   Corporate   Newark          Delaware       East   \n",
       "9949 Second Class   Corporate   Newark          Delaware       East   \n",
       "9950 Second Class   Corporate   Newark          Delaware       East   \n",
       "9951 Standard Class Consumer    Plainfield      New Jersey     East   \n",
       "9952 Standard Class Consumer    Plainfield      New Jersey     East   \n",
       "9953 Standard Class Consumer    Plainfield      New Jersey     East   \n",
       "9954 Standard Class Home Office Smyrna          Georgia        South  \n",
       "9955 Standard Class Home Office Smyrna          Georgia        South  \n",
       "9956 Standard Class Consumer    Houston         Texas          Central\n",
       "9957 Standard Class Home Office Los Angeles     California     West   \n",
       "9958 Standard Class Home Office Los Angeles     California     West   \n",
       "9959 Standard Class Home Office Los Angeles     California     West   \n",
       "9960 Standard Class Home Office Los Angeles     California     West   \n",
       "9961 Standard Class Home Office Los Angeles     California     West   \n",
       "9962 Standard Class Home Office Los Angeles     California     West   \n",
       "9963 Standard Class Home Office Los Angeles     California     West   \n",
       "9964 Second Class   Consumer    Lafayette       Louisiana      South  \n",
       "9965 First Class    Consumer    Fairfield       Ohio           East   \n",
       "9966 Standard Class Consumer    Grand Rapids    Michigan       Central\n",
       "9967 Standard Class Consumer    Grand Rapids    Michigan       Central\n",
       "9968 Standard Class Consumer    Long Beach      New York       East   \n",
       "9969 Standard Class Consumer    Long Beach      New York       East   \n",
       "9970 Standard Class Consumer    Los Angeles     California     West   \n",
       "9971 Standard Class Corporate   Athens          Georgia        South  \n",
       "9972 Standard Class Corporate   Athens          Georgia        South  \n",
       "9973 Second Class   Consumer    Miami           Florida        South  \n",
       "9974 Standard Class Consumer    Costa Mesa      California     West   \n",
       "9975 Standard Class Consumer    Costa Mesa      California     West   \n",
       "9976 Standard Class Consumer    Costa Mesa      California     West   \n",
       "9977 Second Class   Consumer    Westminster     California     West   \n",
       "     Category        Sub.Category Sales     Quantity Discount Profit    \n",
       "1    Furniture       Bookcases     261.9600 2        0.00        41.9136\n",
       "2    Furniture       Chairs        731.9400 3        0.00       219.5820\n",
       "3    Office Supplies Labels         14.6200 2        0.00         6.8714\n",
       "4    Furniture       Tables        957.5775 5        0.45      -383.0310\n",
       "5    Office Supplies Storage        22.3680 2        0.20         2.5164\n",
       "6    Furniture       Furnishings    48.8600 7        0.00        14.1694\n",
       "7    Office Supplies Art             7.2800 4        0.00         1.9656\n",
       "8    Technology      Phones        907.1520 6        0.20        90.7152\n",
       "9    Office Supplies Binders        18.5040 3        0.20         5.7825\n",
       "10   Office Supplies Appliances    114.9000 5        0.00        34.4700\n",
       "11   Furniture       Tables       1706.1840 9        0.20        85.3092\n",
       "12   Technology      Phones        911.4240 4        0.20        68.3568\n",
       "13   Office Supplies Paper          15.5520 3        0.20         5.4432\n",
       "14   Office Supplies Binders       407.9760 3        0.20       132.5922\n",
       "15   Office Supplies Appliances     68.8100 5        0.80      -123.8580\n",
       "16   Office Supplies Binders         2.5440 3        0.80        -3.8160\n",
       "17   Office Supplies Storage       665.8800 6        0.00        13.3176\n",
       "18   Office Supplies Storage        55.5000 2        0.00         9.9900\n",
       "19   Office Supplies Art             8.5600 2        0.00         2.4824\n",
       "20   Technology      Phones        213.4800 3        0.20        16.0110\n",
       "21   Office Supplies Binders        22.7200 4        0.20         7.3840\n",
       "22   Office Supplies Art            19.4600 7        0.00         5.0596\n",
       "23   Office Supplies Appliances     60.3400 7        0.00        15.6884\n",
       "24   Furniture       Chairs         71.3720 2        0.30        -1.0196\n",
       "25   Furniture       Tables       1044.6300 3        0.00       240.2649\n",
       "26   Office Supplies Binders        11.6480 2        0.20         4.2224\n",
       "27   Technology      Accessories    90.5700 3        0.00        11.7741\n",
       "28   Furniture       Bookcases    3083.4300 7        0.50     -1665.0522\n",
       "29   Office Supplies Binders         9.6180 2        0.70        -7.0532\n",
       "30   Furniture       Furnishings   124.2000 3        0.20        15.5250\n",
       "...  ...             ...          ...       ...      ...      ...       \n",
       "9948 Furniture       Furnishings   13.400    1       0.0        6.4320  \n",
       "9949 Office Supplies Paper          4.980    1       0.0        2.3406  \n",
       "9950 Office Supplies Envelopes    109.690    7       0.0       51.5543  \n",
       "9951 Office Supplies Binders       40.200    5       0.0       18.0900  \n",
       "9952 Office Supplies Binders      735.980    2       0.0      331.1910  \n",
       "9953 Office Supplies Appliances    22.750    7       0.0        6.5975  \n",
       "9954 Office Supplies Binders      119.560    2       0.0       54.9976  \n",
       "9955 Office Supplies Art          140.750    5       0.0       42.2250  \n",
       "9956 Office Supplies Envelopes     99.568    2       0.2       33.6042  \n",
       "9957 Technology      Phones       271.960    5       0.2       27.1960  \n",
       "9958 Office Supplies Art           18.690    7       0.0        5.2332  \n",
       "9959 Office Supplies Paper         13.360    2       0.0        6.4128  \n",
       "9960 Technology      Phones       249.584    2       0.2       31.1980  \n",
       "9961 Office Supplies Fasteners     13.860    7       0.0        0.0000  \n",
       "9962 Office Supplies Binders       13.376    4       0.2        4.6816  \n",
       "9963 Office Supplies Binders      437.472   14       0.2      153.1152  \n",
       "9964 Furniture       Tables        85.980    1       0.0       22.3548  \n",
       "9965 Office Supplies Labels        16.520    5       0.2        5.3690  \n",
       "9966 Office Supplies Paper         35.560    7       0.0       16.7132  \n",
       "9967 Technology      Phones        97.980    2       0.0       27.4344  \n",
       "9968 Office Supplies Labels        31.500   10       0.0       15.1200  \n",
       "9969 Office Supplies Supplies      55.600    4       0.0       16.1240  \n",
       "9970 Technology      Accessories   36.240    1       0.0       15.2208  \n",
       "9971 Technology      Accessories   79.990    1       0.0       28.7964  \n",
       "9972 Technology      Phones       206.100    5       0.0       55.6470  \n",
       "9973 Furniture       Furnishings   25.248    3       0.2        4.1028  \n",
       "9974 Furniture       Furnishings   91.960    2       0.0       15.6332  \n",
       "9975 Technology      Phones       258.576    2       0.2       19.3932  \n",
       "9976 Office Supplies Paper         29.600    4       0.0       13.3200  \n",
       "9977 Office Supplies Appliances   243.160    2       0.0       72.9480  "
      ]
     },
     "metadata": {},
     "output_type": "display_data"
    }
   ],
   "source": [
    "#To check if there is any duplicacy and remove them too along with removing two columns (postal codes and country)\n",
    "#as I do not require them for further analysis.\n",
    "data <- superstore %>% \n",
    "         distinct() %>%\n",
    "         select(-c(Country, Postal.Code))\n",
    "data"
   ]
  },
  {
   "cell_type": "markdown",
   "id": "699f54a3",
   "metadata": {},
   "source": [
    "##### New data consists of 9977 rows and 11 columns."
   ]
  },
  {
   "cell_type": "markdown",
   "id": "03177755",
   "metadata": {},
   "source": [
    "# Step 5: Checking Statistical Relationship between rows and columns."
   ]
  },
  {
   "cell_type": "markdown",
   "id": "e4e57491",
   "metadata": {},
   "source": [
    "### 1) Correlation between variables."
   ]
  },
  {
   "cell_type": "code",
   "execution_count": 88,
   "id": "fd33e5cb",
   "metadata": {},
   "outputs": [
    {
     "name": "stderr",
     "output_type": "stream",
     "text": [
      "\n",
      "Correlation method: 'pearson'\n",
      "Missing treated using: 'pairwise.complete.obs'\n",
      "\n",
      "\n"
     ]
    },
    {
     "data": {
      "text/html": [
       "<table class=\"dataframe\">\n",
       "<caption>A cor_df: 4 × 5</caption>\n",
       "<thead>\n",
       "\t<tr><th scope=col>term</th><th scope=col>Sales</th><th scope=col>Quantity</th><th scope=col>Discount</th><th scope=col>Profit</th></tr>\n",
       "\t<tr><th scope=col>&lt;chr&gt;</th><th scope=col>&lt;dbl&gt;</th><th scope=col>&lt;dbl&gt;</th><th scope=col>&lt;dbl&gt;</th><th scope=col>&lt;dbl&gt;</th></tr>\n",
       "</thead>\n",
       "<tbody>\n",
       "\t<tr><td>Sales   </td><td> 1.00000000</td><td>0.200722092</td><td>-0.028311117</td><td> 0.47906731</td></tr>\n",
       "\t<tr><td>Quantity</td><td> 0.20072209</td><td>1.000000000</td><td> 0.008678422</td><td> 0.06621065</td></tr>\n",
       "\t<tr><td>Discount</td><td>-0.02831112</td><td>0.008678422</td><td> 1.000000000</td><td>-0.21966206</td></tr>\n",
       "\t<tr><td>Profit  </td><td> 0.47906731</td><td>0.066210646</td><td>-0.219662064</td><td> 1.00000000</td></tr>\n",
       "</tbody>\n",
       "</table>\n"
      ],
      "text/latex": [
       "A cor\\_df: 4 × 5\n",
       "\\begin{tabular}{lllll}\n",
       " term & Sales & Quantity & Discount & Profit\\\\\n",
       " <chr> & <dbl> & <dbl> & <dbl> & <dbl>\\\\\n",
       "\\hline\n",
       "\t Sales    &  1.00000000 & 0.200722092 & -0.028311117 &  0.47906731\\\\\n",
       "\t Quantity &  0.20072209 & 1.000000000 &  0.008678422 &  0.06621065\\\\\n",
       "\t Discount & -0.02831112 & 0.008678422 &  1.000000000 & -0.21966206\\\\\n",
       "\t Profit   &  0.47906731 & 0.066210646 & -0.219662064 &  1.00000000\\\\\n",
       "\\end{tabular}\n"
      ],
      "text/markdown": [
       "\n",
       "A cor_df: 4 × 5\n",
       "\n",
       "| term &lt;chr&gt; | Sales &lt;dbl&gt; | Quantity &lt;dbl&gt; | Discount &lt;dbl&gt; | Profit &lt;dbl&gt; |\n",
       "|---|---|---|---|---|\n",
       "| Sales    |  1.00000000 | 0.200722092 | -0.028311117 |  0.47906731 |\n",
       "| Quantity |  0.20072209 | 1.000000000 |  0.008678422 |  0.06621065 |\n",
       "| Discount | -0.02831112 | 0.008678422 |  1.000000000 | -0.21966206 |\n",
       "| Profit   |  0.47906731 | 0.066210646 | -0.219662064 |  1.00000000 |\n",
       "\n"
      ],
      "text/plain": [
       "  term     Sales       Quantity    Discount     Profit     \n",
       "1 Sales     1.00000000 0.200722092 -0.028311117  0.47906731\n",
       "2 Quantity  0.20072209 1.000000000  0.008678422  0.06621065\n",
       "3 Discount -0.02831112 0.008678422  1.000000000 -0.21966206\n",
       "4 Profit    0.47906731 0.066210646 -0.219662064  1.00000000"
      ]
     },
     "metadata": {},
     "output_type": "display_data"
    }
   ],
   "source": [
    "x <- data %>%select(Sales, Quantity, Discount, Profit)\n",
    "corr_var <- correlate(x, method = 'pearson',use = \"pairwise.complete.obs\", diagonal = 1)\n",
    "corr_var"
   ]
  },
  {
   "cell_type": "markdown",
   "id": "c90ece49",
   "metadata": {},
   "source": [
    "### 2) Covariance between variables."
   ]
  },
  {
   "cell_type": "code",
   "execution_count": 89,
   "id": "f4316a6f",
   "metadata": {},
   "outputs": [
    {
     "data": {
      "text/html": [
       "<table class=\"dataframe\">\n",
       "<caption>A matrix: 4 × 4 of type dbl</caption>\n",
       "<thead>\n",
       "\t<tr><th></th><th scope=col>Sales</th><th scope=col>Quantity</th><th scope=col>Discount</th><th scope=col>Profit</th></tr>\n",
       "</thead>\n",
       "<tbody>\n",
       "\t<tr><th scope=row>Sales</th><td>389028.396022</td><td>2.787656e+02</td><td> -3.645637429</td><td>70057.06713</td></tr>\n",
       "\t<tr><th scope=row>Quantity</th><td>   278.765576</td><td>4.958001e+00</td><td>  0.003989513</td><td>   34.56574</td></tr>\n",
       "\t<tr><th scope=row>Discount</th><td>    -3.645637</td><td>3.989513e-03</td><td>  0.042623749</td><td>  -10.63275</td></tr>\n",
       "\t<tr><th scope=row>Profit</th><td> 70057.067126</td><td>3.456574e+01</td><td>-10.632750986</td><td>54970.47882</td></tr>\n",
       "</tbody>\n",
       "</table>\n"
      ],
      "text/latex": [
       "A matrix: 4 × 4 of type dbl\n",
       "\\begin{tabular}{r|llll}\n",
       "  & Sales & Quantity & Discount & Profit\\\\\n",
       "\\hline\n",
       "\tSales & 389028.396022 & 2.787656e+02 &  -3.645637429 & 70057.06713\\\\\n",
       "\tQuantity &    278.765576 & 4.958001e+00 &   0.003989513 &    34.56574\\\\\n",
       "\tDiscount &     -3.645637 & 3.989513e-03 &   0.042623749 &   -10.63275\\\\\n",
       "\tProfit &  70057.067126 & 3.456574e+01 & -10.632750986 & 54970.47882\\\\\n",
       "\\end{tabular}\n"
      ],
      "text/markdown": [
       "\n",
       "A matrix: 4 × 4 of type dbl\n",
       "\n",
       "| <!--/--> | Sales | Quantity | Discount | Profit |\n",
       "|---|---|---|---|---|\n",
       "| Sales | 389028.396022 | 2.787656e+02 |  -3.645637429 | 70057.06713 |\n",
       "| Quantity |    278.765576 | 4.958001e+00 |   0.003989513 |    34.56574 |\n",
       "| Discount |     -3.645637 | 3.989513e-03 |   0.042623749 |   -10.63275 |\n",
       "| Profit |  70057.067126 | 3.456574e+01 | -10.632750986 | 54970.47882 |\n",
       "\n"
      ],
      "text/plain": [
       "         Sales         Quantity     Discount      Profit     \n",
       "Sales    389028.396022 2.787656e+02  -3.645637429 70057.06713\n",
       "Quantity    278.765576 4.958001e+00   0.003989513    34.56574\n",
       "Discount     -3.645637 3.989513e-03   0.042623749   -10.63275\n",
       "Profit    70057.067126 3.456574e+01 -10.632750986 54970.47882"
      ]
     },
     "metadata": {},
     "output_type": "display_data"
    }
   ],
   "source": [
    "y<- data %>%select(Sales, Quantity, Discount, Profit)\n",
    "cov_var <- cov(y)\n",
    "cov_var"
   ]
  },
  {
   "cell_type": "markdown",
   "id": "4e86c66c",
   "metadata": {},
   "source": [
    "### 3) Statistical Summary for sales"
   ]
  },
  {
   "cell_type": "code",
   "execution_count": 90,
   "id": "3d8aa2ab",
   "metadata": {},
   "outputs": [
    {
     "data": {
      "text/plain": [
       "     Min.   1st Qu.    Median      Mean   3rd Qu.      Max. \n",
       "    0.444    17.300    54.816   230.149   209.970 22638.480 "
      ]
     },
     "metadata": {},
     "output_type": "display_data"
    }
   ],
   "source": [
    "summary(data$Sales)"
   ]
  },
  {
   "cell_type": "markdown",
   "id": "3715aca1",
   "metadata": {},
   "source": [
    "## Step 6: Analysis and Visualization"
   ]
  },
  {
   "cell_type": "markdown",
   "id": "5f318f0d",
   "metadata": {},
   "source": [
    "### 1) Statewise Sales Analysis"
   ]
  },
  {
   "cell_type": "code",
   "execution_count": 91,
   "id": "49b9bf83",
   "metadata": {},
   "outputs": [
    {
     "data": {
      "text/html": [
       "<table class=\"dataframe\">\n",
       "<caption>A tibble: 49 × 2</caption>\n",
       "<thead>\n",
       "\t<tr><th scope=col>State</th><th scope=col>total_sales</th></tr>\n",
       "\t<tr><th scope=col>&lt;fct&gt;</th><th scope=col>&lt;dbl&gt;</th></tr>\n",
       "</thead>\n",
       "<tbody>\n",
       "\t<tr><td>California          </td><td>457576.271</td></tr>\n",
       "\t<tr><td>New York            </td><td>310827.151</td></tr>\n",
       "\t<tr><td>Texas               </td><td>170124.542</td></tr>\n",
       "\t<tr><td>Washington          </td><td>138560.810</td></tr>\n",
       "\t<tr><td>Pennsylvania        </td><td>116496.362</td></tr>\n",
       "\t<tr><td>Florida             </td><td> 89473.708</td></tr>\n",
       "\t<tr><td>Illinois            </td><td> 80162.537</td></tr>\n",
       "\t<tr><td>Ohio                </td><td> 77976.764</td></tr>\n",
       "\t<tr><td>Michigan            </td><td> 75879.644</td></tr>\n",
       "\t<tr><td>Virginia            </td><td> 70636.720</td></tr>\n",
       "\t<tr><td>North Carolina      </td><td> 55603.164</td></tr>\n",
       "\t<tr><td>Indiana             </td><td> 53555.360</td></tr>\n",
       "\t<tr><td>Georgia             </td><td> 49095.840</td></tr>\n",
       "\t<tr><td>Kentucky            </td><td> 36591.750</td></tr>\n",
       "\t<tr><td>New Jersey          </td><td> 35764.312</td></tr>\n",
       "\t<tr><td>Arizona             </td><td> 35282.001</td></tr>\n",
       "\t<tr><td>Wisconsin           </td><td> 32114.610</td></tr>\n",
       "\t<tr><td>Colorado            </td><td> 32108.118</td></tr>\n",
       "\t<tr><td>Tennessee           </td><td> 30661.873</td></tr>\n",
       "\t<tr><td>Minnesota           </td><td> 29863.150</td></tr>\n",
       "\t<tr><td>Massachusetts       </td><td> 28634.434</td></tr>\n",
       "\t<tr><td>Delaware            </td><td> 27451.069</td></tr>\n",
       "\t<tr><td>Maryland            </td><td> 23705.523</td></tr>\n",
       "\t<tr><td>Rhode Island        </td><td> 22627.956</td></tr>\n",
       "\t<tr><td>Missouri            </td><td> 22205.150</td></tr>\n",
       "\t<tr><td>Oklahoma            </td><td> 19683.390</td></tr>\n",
       "\t<tr><td>Alabama             </td><td> 19510.640</td></tr>\n",
       "\t<tr><td>Oregon              </td><td> 17420.782</td></tr>\n",
       "\t<tr><td>Nevada              </td><td> 16729.102</td></tr>\n",
       "\t<tr><td>Connecticut         </td><td> 13384.357</td></tr>\n",
       "\t<tr><td>Arkansas            </td><td> 11678.130</td></tr>\n",
       "\t<tr><td>Utah                </td><td> 11220.056</td></tr>\n",
       "\t<tr><td>Mississippi         </td><td> 10771.340</td></tr>\n",
       "\t<tr><td>Louisiana           </td><td>  9217.030</td></tr>\n",
       "\t<tr><td>Vermont             </td><td>  8929.370</td></tr>\n",
       "\t<tr><td>South Carolina      </td><td>  8481.710</td></tr>\n",
       "\t<tr><td>Nebraska            </td><td>  7464.930</td></tr>\n",
       "\t<tr><td>New Hampshire       </td><td>  7292.524</td></tr>\n",
       "\t<tr><td>Montana             </td><td>  5589.352</td></tr>\n",
       "\t<tr><td>New Mexico          </td><td>  4783.522</td></tr>\n",
       "\t<tr><td>Iowa                </td><td>  4579.760</td></tr>\n",
       "\t<tr><td>Idaho               </td><td>  4382.486</td></tr>\n",
       "\t<tr><td>Kansas              </td><td>  2914.310</td></tr>\n",
       "\t<tr><td>District of Columbia</td><td>  2865.020</td></tr>\n",
       "\t<tr><td>Wyoming             </td><td>  1603.136</td></tr>\n",
       "\t<tr><td>South Dakota        </td><td>  1315.560</td></tr>\n",
       "\t<tr><td>Maine               </td><td>  1270.530</td></tr>\n",
       "\t<tr><td>West Virginia       </td><td>  1209.824</td></tr>\n",
       "\t<tr><td>North Dakota        </td><td>   919.910</td></tr>\n",
       "</tbody>\n",
       "</table>\n"
      ],
      "text/latex": [
       "A tibble: 49 × 2\n",
       "\\begin{tabular}{ll}\n",
       " State & total\\_sales\\\\\n",
       " <fct> & <dbl>\\\\\n",
       "\\hline\n",
       "\t California           & 457576.271\\\\\n",
       "\t New York             & 310827.151\\\\\n",
       "\t Texas                & 170124.542\\\\\n",
       "\t Washington           & 138560.810\\\\\n",
       "\t Pennsylvania         & 116496.362\\\\\n",
       "\t Florida              &  89473.708\\\\\n",
       "\t Illinois             &  80162.537\\\\\n",
       "\t Ohio                 &  77976.764\\\\\n",
       "\t Michigan             &  75879.644\\\\\n",
       "\t Virginia             &  70636.720\\\\\n",
       "\t North Carolina       &  55603.164\\\\\n",
       "\t Indiana              &  53555.360\\\\\n",
       "\t Georgia              &  49095.840\\\\\n",
       "\t Kentucky             &  36591.750\\\\\n",
       "\t New Jersey           &  35764.312\\\\\n",
       "\t Arizona              &  35282.001\\\\\n",
       "\t Wisconsin            &  32114.610\\\\\n",
       "\t Colorado             &  32108.118\\\\\n",
       "\t Tennessee            &  30661.873\\\\\n",
       "\t Minnesota            &  29863.150\\\\\n",
       "\t Massachusetts        &  28634.434\\\\\n",
       "\t Delaware             &  27451.069\\\\\n",
       "\t Maryland             &  23705.523\\\\\n",
       "\t Rhode Island         &  22627.956\\\\\n",
       "\t Missouri             &  22205.150\\\\\n",
       "\t Oklahoma             &  19683.390\\\\\n",
       "\t Alabama              &  19510.640\\\\\n",
       "\t Oregon               &  17420.782\\\\\n",
       "\t Nevada               &  16729.102\\\\\n",
       "\t Connecticut          &  13384.357\\\\\n",
       "\t Arkansas             &  11678.130\\\\\n",
       "\t Utah                 &  11220.056\\\\\n",
       "\t Mississippi          &  10771.340\\\\\n",
       "\t Louisiana            &   9217.030\\\\\n",
       "\t Vermont              &   8929.370\\\\\n",
       "\t South Carolina       &   8481.710\\\\\n",
       "\t Nebraska             &   7464.930\\\\\n",
       "\t New Hampshire        &   7292.524\\\\\n",
       "\t Montana              &   5589.352\\\\\n",
       "\t New Mexico           &   4783.522\\\\\n",
       "\t Iowa                 &   4579.760\\\\\n",
       "\t Idaho                &   4382.486\\\\\n",
       "\t Kansas               &   2914.310\\\\\n",
       "\t District of Columbia &   2865.020\\\\\n",
       "\t Wyoming              &   1603.136\\\\\n",
       "\t South Dakota         &   1315.560\\\\\n",
       "\t Maine                &   1270.530\\\\\n",
       "\t West Virginia        &   1209.824\\\\\n",
       "\t North Dakota         &    919.910\\\\\n",
       "\\end{tabular}\n"
      ],
      "text/markdown": [
       "\n",
       "A tibble: 49 × 2\n",
       "\n",
       "| State &lt;fct&gt; | total_sales &lt;dbl&gt; |\n",
       "|---|---|\n",
       "| California           | 457576.271 |\n",
       "| New York             | 310827.151 |\n",
       "| Texas                | 170124.542 |\n",
       "| Washington           | 138560.810 |\n",
       "| Pennsylvania         | 116496.362 |\n",
       "| Florida              |  89473.708 |\n",
       "| Illinois             |  80162.537 |\n",
       "| Ohio                 |  77976.764 |\n",
       "| Michigan             |  75879.644 |\n",
       "| Virginia             |  70636.720 |\n",
       "| North Carolina       |  55603.164 |\n",
       "| Indiana              |  53555.360 |\n",
       "| Georgia              |  49095.840 |\n",
       "| Kentucky             |  36591.750 |\n",
       "| New Jersey           |  35764.312 |\n",
       "| Arizona              |  35282.001 |\n",
       "| Wisconsin            |  32114.610 |\n",
       "| Colorado             |  32108.118 |\n",
       "| Tennessee            |  30661.873 |\n",
       "| Minnesota            |  29863.150 |\n",
       "| Massachusetts        |  28634.434 |\n",
       "| Delaware             |  27451.069 |\n",
       "| Maryland             |  23705.523 |\n",
       "| Rhode Island         |  22627.956 |\n",
       "| Missouri             |  22205.150 |\n",
       "| Oklahoma             |  19683.390 |\n",
       "| Alabama              |  19510.640 |\n",
       "| Oregon               |  17420.782 |\n",
       "| Nevada               |  16729.102 |\n",
       "| Connecticut          |  13384.357 |\n",
       "| Arkansas             |  11678.130 |\n",
       "| Utah                 |  11220.056 |\n",
       "| Mississippi          |  10771.340 |\n",
       "| Louisiana            |   9217.030 |\n",
       "| Vermont              |   8929.370 |\n",
       "| South Carolina       |   8481.710 |\n",
       "| Nebraska             |   7464.930 |\n",
       "| New Hampshire        |   7292.524 |\n",
       "| Montana              |   5589.352 |\n",
       "| New Mexico           |   4783.522 |\n",
       "| Iowa                 |   4579.760 |\n",
       "| Idaho                |   4382.486 |\n",
       "| Kansas               |   2914.310 |\n",
       "| District of Columbia |   2865.020 |\n",
       "| Wyoming              |   1603.136 |\n",
       "| South Dakota         |   1315.560 |\n",
       "| Maine                |   1270.530 |\n",
       "| West Virginia        |   1209.824 |\n",
       "| North Dakota         |    919.910 |\n",
       "\n"
      ],
      "text/plain": [
       "   State                total_sales\n",
       "1  California           457576.271 \n",
       "2  New York             310827.151 \n",
       "3  Texas                170124.542 \n",
       "4  Washington           138560.810 \n",
       "5  Pennsylvania         116496.362 \n",
       "6  Florida               89473.708 \n",
       "7  Illinois              80162.537 \n",
       "8  Ohio                  77976.764 \n",
       "9  Michigan              75879.644 \n",
       "10 Virginia              70636.720 \n",
       "11 North Carolina        55603.164 \n",
       "12 Indiana               53555.360 \n",
       "13 Georgia               49095.840 \n",
       "14 Kentucky              36591.750 \n",
       "15 New Jersey            35764.312 \n",
       "16 Arizona               35282.001 \n",
       "17 Wisconsin             32114.610 \n",
       "18 Colorado              32108.118 \n",
       "19 Tennessee             30661.873 \n",
       "20 Minnesota             29863.150 \n",
       "21 Massachusetts         28634.434 \n",
       "22 Delaware              27451.069 \n",
       "23 Maryland              23705.523 \n",
       "24 Rhode Island          22627.956 \n",
       "25 Missouri              22205.150 \n",
       "26 Oklahoma              19683.390 \n",
       "27 Alabama               19510.640 \n",
       "28 Oregon                17420.782 \n",
       "29 Nevada                16729.102 \n",
       "30 Connecticut           13384.357 \n",
       "31 Arkansas              11678.130 \n",
       "32 Utah                  11220.056 \n",
       "33 Mississippi           10771.340 \n",
       "34 Louisiana              9217.030 \n",
       "35 Vermont                8929.370 \n",
       "36 South Carolina         8481.710 \n",
       "37 Nebraska               7464.930 \n",
       "38 New Hampshire          7292.524 \n",
       "39 Montana                5589.352 \n",
       "40 New Mexico             4783.522 \n",
       "41 Iowa                   4579.760 \n",
       "42 Idaho                  4382.486 \n",
       "43 Kansas                 2914.310 \n",
       "44 District of Columbia   2865.020 \n",
       "45 Wyoming                1603.136 \n",
       "46 South Dakota           1315.560 \n",
       "47 Maine                  1270.530 \n",
       "48 West Virginia          1209.824 \n",
       "49 North Dakota            919.910 "
      ]
     },
     "metadata": {},
     "output_type": "display_data"
    },
    {
     "data": {
      "image/png": "[encoded data removed]",
      "text/plain": [
       "plot without title"
      ]
     },
     "metadata": {
      "image/png": {
       "height": 420,
       "width": 420
      }
     },
     "output_type": "display_data"
    }
   ],
   "source": [
    " statewise_sales <- data %>% \n",
    "                  group_by(State) %>%\n",
    "                  summarise(total_sales = sum(Sales)) %>%\n",
    "                  arrange(desc(total_sales))\n",
    "statewise_sales\n",
    "\n",
    "ggplot(data, aes( x= State, y= Sales, fill= State),options(scipen=999)) + \n",
    "          geom_col()+\n",
    "          ggtitle(\"Statewise Sales Analysis\") + \n",
    "          coord_flip() + \n",
    "        theme(legend.position = \"None\", axis.text.y = element_text(size=6))"
   ]
  },
  {
   "cell_type": "markdown",
   "id": "99499b36",
   "metadata": {},
   "source": [
    "##### Observation: State of California recorded the highest Sales of around 4,50,000 USD; followed by New York, Texas and Washington at second, third and fourth position respectively. On the other hand, North Dakota records the least sales among all the states with nearly 900 USD."
   ]
  },
  {
   "cell_type": "markdown",
   "id": "8bd63a56",
   "metadata": {},
   "source": [
    "### 2) Regionwise Sales Analysis"
   ]
  },
  {
   "cell_type": "code",
   "execution_count": 92,
   "id": "af281464",
   "metadata": {},
   "outputs": [
    {
     "data": {
      "text/html": [
       "<table class=\"dataframe\">\n",
       "<caption>A tibble: 4 × 2</caption>\n",
       "<thead>\n",
       "\t<tr><th scope=col>Region</th><th scope=col>totalS</th></tr>\n",
       "\t<tr><th scope=col>&lt;fct&gt;</th><th scope=col>&lt;dbl&gt;</th></tr>\n",
       "</thead>\n",
       "<tbody>\n",
       "\t<tr><td>West   </td><td>725255.6</td></tr>\n",
       "\t<tr><td>East   </td><td>678435.2</td></tr>\n",
       "\t<tr><td>Central</td><td>500782.9</td></tr>\n",
       "\t<tr><td>South  </td><td>391721.9</td></tr>\n",
       "</tbody>\n",
       "</table>\n"
      ],
      "text/latex": [
       "A tibble: 4 × 2\n",
       "\\begin{tabular}{ll}\n",
       " Region & totalS\\\\\n",
       " <fct> & <dbl>\\\\\n",
       "\\hline\n",
       "\t West    & 725255.6\\\\\n",
       "\t East    & 678435.2\\\\\n",
       "\t Central & 500782.9\\\\\n",
       "\t South   & 391721.9\\\\\n",
       "\\end{tabular}\n"
      ],
      "text/markdown": [
       "\n",
       "A tibble: 4 × 2\n",
       "\n",
       "| Region &lt;fct&gt; | totalS &lt;dbl&gt; |\n",
       "|---|---|\n",
       "| West    | 725255.6 |\n",
       "| East    | 678435.2 |\n",
       "| Central | 500782.9 |\n",
       "| South   | 391721.9 |\n",
       "\n"
      ],
      "text/plain": [
       "  Region  totalS  \n",
       "1 West    725255.6\n",
       "2 East    678435.2\n",
       "3 Central 500782.9\n",
       "4 South   391721.9"
      ]
     },
     "metadata": {},
     "output_type": "display_data"
    },
    {
     "data": {
      "image/png": "[encoded data removed]",
      "text/plain": [
       "plot without title"
      ]
     },
     "metadata": {
      "image/png": {
       "height": 420,
       "width": 420
      }
     },
     "output_type": "display_data"
    }
   ],
   "source": [
    "regionwise_sales = data %>% \n",
    "        group_by(Region) %>%\n",
    "       summarize(totalS= sum(Sales)) %>%\n",
    "       arrange(desc(totalS))\n",
    "regionwise_sales\n",
    "\n",
    "ggplot(data, aes( x= Region, y= Sales, fill= Region),options(scipen=99)) + \n",
    "          geom_col()+\n",
    "          ggtitle(\"Regionwise Sales Analysis\") + \n",
    "        theme(legend.position = \"None\", axis.text.y = element_text(size=6))"
   ]
  },
  {
   "cell_type": "markdown",
   "id": "2a7401e2",
   "metadata": {},
   "source": [
    "##### Observation : From Regionwise Sales chart, we can see that company's sales are mostly concentrated on the Eastern and Western Region of America"
   ]
  },
  {
   "cell_type": "markdown",
   "id": "2163d3ec",
   "metadata": {},
   "source": [
    "### 3) Statewise Profit Analysis"
   ]
  },
  {
   "cell_type": "code",
   "execution_count": 93,
   "id": "69185034",
   "metadata": {},
   "outputs": [
    {
     "data": {
      "text/html": [
       "<table class=\"dataframe\">\n",
       "<caption>A tibble: 49 × 2</caption>\n",
       "<thead>\n",
       "\t<tr><th scope=col>State</th><th scope=col>totalP</th></tr>\n",
       "\t<tr><th scope=col>&lt;fct&gt;</th><th scope=col>&lt;dbl&gt;</th></tr>\n",
       "</thead>\n",
       "<tbody>\n",
       "\t<tr><td>California          </td><td> 76330.7891</td></tr>\n",
       "\t<tr><td>New York            </td><td> 74015.4622</td></tr>\n",
       "\t<tr><td>Washington          </td><td> 33368.2375</td></tr>\n",
       "\t<tr><td>Michigan            </td><td> 24428.0903</td></tr>\n",
       "\t<tr><td>Virginia            </td><td> 18597.9504</td></tr>\n",
       "\t<tr><td>Indiana             </td><td> 18382.9363</td></tr>\n",
       "\t<tr><td>Georgia             </td><td> 16250.0433</td></tr>\n",
       "\t<tr><td>Kentucky            </td><td> 11199.6966</td></tr>\n",
       "\t<tr><td>Minnesota           </td><td> 10823.1874</td></tr>\n",
       "\t<tr><td>Delaware            </td><td>  9977.3748</td></tr>\n",
       "\t<tr><td>New Jersey          </td><td>  9772.9138</td></tr>\n",
       "\t<tr><td>Wisconsin           </td><td>  8401.8004</td></tr>\n",
       "\t<tr><td>Rhode Island        </td><td>  7285.6293</td></tr>\n",
       "\t<tr><td>Maryland            </td><td>  7031.1788</td></tr>\n",
       "\t<tr><td>Massachusetts       </td><td>  6785.5016</td></tr>\n",
       "\t<tr><td>Missouri            </td><td>  6436.2105</td></tr>\n",
       "\t<tr><td>Alabama             </td><td>  5786.8253</td></tr>\n",
       "\t<tr><td>Oklahoma            </td><td>  4853.9560</td></tr>\n",
       "\t<tr><td>Arkansas            </td><td>  4008.6871</td></tr>\n",
       "\t<tr><td>Connecticut         </td><td>  3511.4918</td></tr>\n",
       "\t<tr><td>Nevada              </td><td>  3316.7659</td></tr>\n",
       "\t<tr><td>Mississippi         </td><td>  3172.9762</td></tr>\n",
       "\t<tr><td>Utah                </td><td>  2546.5335</td></tr>\n",
       "\t<tr><td>Vermont             </td><td>  2244.9783</td></tr>\n",
       "\t<tr><td>Louisiana           </td><td>  2196.1023</td></tr>\n",
       "\t<tr><td>Nebraska            </td><td>  2037.0942</td></tr>\n",
       "\t<tr><td>Montana             </td><td>  1833.3285</td></tr>\n",
       "\t<tr><td>South Carolina      </td><td>  1769.0566</td></tr>\n",
       "\t<tr><td>New Hampshire       </td><td>  1706.5028</td></tr>\n",
       "\t<tr><td>Iowa                </td><td>  1183.8119</td></tr>\n",
       "\t<tr><td>New Mexico          </td><td>  1157.1161</td></tr>\n",
       "\t<tr><td>District of Columbia</td><td>  1059.5893</td></tr>\n",
       "\t<tr><td>Kansas              </td><td>   836.4435</td></tr>\n",
       "\t<tr><td>Idaho               </td><td>   826.7231</td></tr>\n",
       "\t<tr><td>Maine               </td><td>   454.4862</td></tr>\n",
       "\t<tr><td>South Dakota        </td><td>   394.8283</td></tr>\n",
       "\t<tr><td>North Dakota        </td><td>   230.1497</td></tr>\n",
       "\t<tr><td>West Virginia       </td><td>   185.9216</td></tr>\n",
       "\t<tr><td>Wyoming             </td><td>   100.1960</td></tr>\n",
       "\t<tr><td>Oregon              </td><td> -1194.0993</td></tr>\n",
       "\t<tr><td>Florida             </td><td> -3399.3017</td></tr>\n",
       "\t<tr><td>Arizona             </td><td> -3427.9246</td></tr>\n",
       "\t<tr><td>Tennessee           </td><td> -5341.6936</td></tr>\n",
       "\t<tr><td>Colorado            </td><td> -6527.8579</td></tr>\n",
       "\t<tr><td>North Carolina      </td><td> -7490.9122</td></tr>\n",
       "\t<tr><td>Illinois            </td><td>-12601.6500</td></tr>\n",
       "\t<tr><td>Pennsylvania        </td><td>-15565.4035</td></tr>\n",
       "\t<tr><td>Ohio                </td><td>-16959.3178</td></tr>\n",
       "\t<tr><td>Texas               </td><td>-25750.9833</td></tr>\n",
       "</tbody>\n",
       "</table>\n"
      ],
      "text/latex": [
       "A tibble: 49 × 2\n",
       "\\begin{tabular}{ll}\n",
       " State & totalP\\\\\n",
       " <fct> & <dbl>\\\\\n",
       "\\hline\n",
       "\t California           &  76330.7891\\\\\n",
       "\t New York             &  74015.4622\\\\\n",
       "\t Washington           &  33368.2375\\\\\n",
       "\t Michigan             &  24428.0903\\\\\n",
       "\t Virginia             &  18597.9504\\\\\n",
       "\t Indiana              &  18382.9363\\\\\n",
       "\t Georgia              &  16250.0433\\\\\n",
       "\t Kentucky             &  11199.6966\\\\\n",
       "\t Minnesota            &  10823.1874\\\\\n",
       "\t Delaware             &   9977.3748\\\\\n",
       "\t New Jersey           &   9772.9138\\\\\n",
       "\t Wisconsin            &   8401.8004\\\\\n",
       "\t Rhode Island         &   7285.6293\\\\\n",
       "\t Maryland             &   7031.1788\\\\\n",
       "\t Massachusetts        &   6785.5016\\\\\n",
       "\t Missouri             &   6436.2105\\\\\n",
       "\t Alabama              &   5786.8253\\\\\n",
       "\t Oklahoma             &   4853.9560\\\\\n",
       "\t Arkansas             &   4008.6871\\\\\n",
       "\t Connecticut          &   3511.4918\\\\\n",
       "\t Nevada               &   3316.7659\\\\\n",
       "\t Mississippi          &   3172.9762\\\\\n",
       "\t Utah                 &   2546.5335\\\\\n",
       "\t Vermont              &   2244.9783\\\\\n",
       "\t Louisiana            &   2196.1023\\\\\n",
       "\t Nebraska             &   2037.0942\\\\\n",
       "\t Montana              &   1833.3285\\\\\n",
       "\t South Carolina       &   1769.0566\\\\\n",
       "\t New Hampshire        &   1706.5028\\\\\n",
       "\t Iowa                 &   1183.8119\\\\\n",
       "\t New Mexico           &   1157.1161\\\\\n",
       "\t District of Columbia &   1059.5893\\\\\n",
       "\t Kansas               &    836.4435\\\\\n",
       "\t Idaho                &    826.7231\\\\\n",
       "\t Maine                &    454.4862\\\\\n",
       "\t South Dakota         &    394.8283\\\\\n",
       "\t North Dakota         &    230.1497\\\\\n",
       "\t West Virginia        &    185.9216\\\\\n",
       "\t Wyoming              &    100.1960\\\\\n",
       "\t Oregon               &  -1194.0993\\\\\n",
       "\t Florida              &  -3399.3017\\\\\n",
       "\t Arizona              &  -3427.9246\\\\\n",
       "\t Tennessee            &  -5341.6936\\\\\n",
       "\t Colorado             &  -6527.8579\\\\\n",
       "\t North Carolina       &  -7490.9122\\\\\n",
       "\t Illinois             & -12601.6500\\\\\n",
       "\t Pennsylvania         & -15565.4035\\\\\n",
       "\t Ohio                 & -16959.3178\\\\\n",
       "\t Texas                & -25750.9833\\\\\n",
       "\\end{tabular}\n"
      ],
      "text/markdown": [
       "\n",
       "A tibble: 49 × 2\n",
       "\n",
       "| State &lt;fct&gt; | totalP &lt;dbl&gt; |\n",
       "|---|---|\n",
       "| California           |  76330.7891 |\n",
       "| New York             |  74015.4622 |\n",
       "| Washington           |  33368.2375 |\n",
       "| Michigan             |  24428.0903 |\n",
       "| Virginia             |  18597.9504 |\n",
       "| Indiana              |  18382.9363 |\n",
       "| Georgia              |  16250.0433 |\n",
       "| Kentucky             |  11199.6966 |\n",
       "| Minnesota            |  10823.1874 |\n",
       "| Delaware             |   9977.3748 |\n",
       "| New Jersey           |   9772.9138 |\n",
       "| Wisconsin            |   8401.8004 |\n",
       "| Rhode Island         |   7285.6293 |\n",
       "| Maryland             |   7031.1788 |\n",
       "| Massachusetts        |   6785.5016 |\n",
       "| Missouri             |   6436.2105 |\n",
       "| Alabama              |   5786.8253 |\n",
       "| Oklahoma             |   4853.9560 |\n",
       "| Arkansas             |   4008.6871 |\n",
       "| Connecticut          |   3511.4918 |\n",
       "| Nevada               |   3316.7659 |\n",
       "| Mississippi          |   3172.9762 |\n",
       "| Utah                 |   2546.5335 |\n",
       "| Vermont              |   2244.9783 |\n",
       "| Louisiana            |   2196.1023 |\n",
       "| Nebraska             |   2037.0942 |\n",
       "| Montana              |   1833.3285 |\n",
       "| South Carolina       |   1769.0566 |\n",
       "| New Hampshire        |   1706.5028 |\n",
       "| Iowa                 |   1183.8119 |\n",
       "| New Mexico           |   1157.1161 |\n",
       "| District of Columbia |   1059.5893 |\n",
       "| Kansas               |    836.4435 |\n",
       "| Idaho                |    826.7231 |\n",
       "| Maine                |    454.4862 |\n",
       "| South Dakota         |    394.8283 |\n",
       "| North Dakota         |    230.1497 |\n",
       "| West Virginia        |    185.9216 |\n",
       "| Wyoming              |    100.1960 |\n",
       "| Oregon               |  -1194.0993 |\n",
       "| Florida              |  -3399.3017 |\n",
       "| Arizona              |  -3427.9246 |\n",
       "| Tennessee            |  -5341.6936 |\n",
       "| Colorado             |  -6527.8579 |\n",
       "| North Carolina       |  -7490.9122 |\n",
       "| Illinois             | -12601.6500 |\n",
       "| Pennsylvania         | -15565.4035 |\n",
       "| Ohio                 | -16959.3178 |\n",
       "| Texas                | -25750.9833 |\n",
       "\n"
      ],
      "text/plain": [
       "   State                totalP     \n",
       "1  California            76330.7891\n",
       "2  New York              74015.4622\n",
       "3  Washington            33368.2375\n",
       "4  Michigan              24428.0903\n",
       "5  Virginia              18597.9504\n",
       "6  Indiana               18382.9363\n",
       "7  Georgia               16250.0433\n",
       "8  Kentucky              11199.6966\n",
       "9  Minnesota             10823.1874\n",
       "10 Delaware               9977.3748\n",
       "11 New Jersey             9772.9138\n",
       "12 Wisconsin              8401.8004\n",
       "13 Rhode Island           7285.6293\n",
       "14 Maryland               7031.1788\n",
       "15 Massachusetts          6785.5016\n",
       "16 Missouri               6436.2105\n",
       "17 Alabama                5786.8253\n",
       "18 Oklahoma               4853.9560\n",
       "19 Arkansas               4008.6871\n",
       "20 Connecticut            3511.4918\n",
       "21 Nevada                 3316.7659\n",
       "22 Mississippi            3172.9762\n",
       "23 Utah                   2546.5335\n",
       "24 Vermont                2244.9783\n",
       "25 Louisiana              2196.1023\n",
       "26 Nebraska               2037.0942\n",
       "27 Montana                1833.3285\n",
       "28 South Carolina         1769.0566\n",
       "29 New Hampshire          1706.5028\n",
       "30 Iowa                   1183.8119\n",
       "31 New Mexico             1157.1161\n",
       "32 District of Columbia   1059.5893\n",
       "33 Kansas                  836.4435\n",
       "34 Idaho                   826.7231\n",
       "35 Maine                   454.4862\n",
       "36 South Dakota            394.8283\n",
       "37 North Dakota            230.1497\n",
       "38 West Virginia           185.9216\n",
       "39 Wyoming                 100.1960\n",
       "40 Oregon                -1194.0993\n",
       "41 Florida               -3399.3017\n",
       "42 Arizona               -3427.9246\n",
       "43 Tennessee             -5341.6936\n",
       "44 Colorado              -6527.8579\n",
       "45 North Carolina        -7490.9122\n",
       "46 Illinois             -12601.6500\n",
       "47 Pennsylvania         -15565.4035\n",
       "48 Ohio                 -16959.3178\n",
       "49 Texas                -25750.9833"
      ]
     },
     "metadata": {},
     "output_type": "display_data"
    },
    {
     "data": {
      "image/png": "[encoded data removed]",
      "text/plain": [
       "plot without title"
      ]
     },
     "metadata": {
      "image/png": {
       "height": 420,
       "width": 420
      }
     },
     "output_type": "display_data"
    }
   ],
   "source": [
    "Statewise_profit = data%>% \n",
    "          group_by(State)%>% \n",
    "          summarise(totalP= sum(Profit))%>% \n",
    "           arrange(desc(totalP))\n",
    "Statewise_profit\n",
    "\n",
    "ggplot(data, aes( x= State, y= Profit, fill= State),options(scipen=99)) + \n",
    "          geom_col()+\n",
    "          ggtitle(\"Statewise Profit Analysis\") + \n",
    "          coord_flip() +\n",
    "          theme(legend.position = \"None\", axis.text.y = element_text(size=6))"
   ]
  },
  {
   "cell_type": "markdown",
   "id": "0205b37f",
   "metadata": {},
   "source": [
    "##### Observation :  From Statewise Profit Analysis , California and New York recorded the most profits. Texas was the most unprofitable among all, causing the company severe losses."
   ]
  },
  {
   "cell_type": "markdown",
   "id": "55910fb0",
   "metadata": {},
   "source": [
    "### 4)Regionwise Profit Analysis"
   ]
  },
  {
   "cell_type": "code",
   "execution_count": 94,
   "id": "bdc72253",
   "metadata": {},
   "outputs": [
    {
     "data": {
      "text/html": [
       "<table class=\"dataframe\">\n",
       "<caption>A tibble: 4 × 2</caption>\n",
       "<thead>\n",
       "\t<tr><th scope=col>Region</th><th scope=col>totalS</th></tr>\n",
       "\t<tr><th scope=col>&lt;fct&gt;</th><th scope=col>&lt;dbl&gt;</th></tr>\n",
       "</thead>\n",
       "<tbody>\n",
       "\t<tr><td>West   </td><td>725255.6</td></tr>\n",
       "\t<tr><td>East   </td><td>678435.2</td></tr>\n",
       "\t<tr><td>Central</td><td>500782.9</td></tr>\n",
       "\t<tr><td>South  </td><td>391721.9</td></tr>\n",
       "</tbody>\n",
       "</table>\n"
      ],
      "text/latex": [
       "A tibble: 4 × 2\n",
       "\\begin{tabular}{ll}\n",
       " Region & totalS\\\\\n",
       " <fct> & <dbl>\\\\\n",
       "\\hline\n",
       "\t West    & 725255.6\\\\\n",
       "\t East    & 678435.2\\\\\n",
       "\t Central & 500782.9\\\\\n",
       "\t South   & 391721.9\\\\\n",
       "\\end{tabular}\n"
      ],
      "text/markdown": [
       "\n",
       "A tibble: 4 × 2\n",
       "\n",
       "| Region &lt;fct&gt; | totalS &lt;dbl&gt; |\n",
       "|---|---|\n",
       "| West    | 725255.6 |\n",
       "| East    | 678435.2 |\n",
       "| Central | 500782.9 |\n",
       "| South   | 391721.9 |\n",
       "\n"
      ],
      "text/plain": [
       "  Region  totalS  \n",
       "1 West    725255.6\n",
       "2 East    678435.2\n",
       "3 Central 500782.9\n",
       "4 South   391721.9"
      ]
     },
     "metadata": {},
     "output_type": "display_data"
    },
    {
     "data": {
      "image/png": "[encoded data removed]",
      "text/plain": [
       "plot without title"
      ]
     },
     "metadata": {
      "image/png": {
       "height": 420,
       "width": 420
      }
     },
     "output_type": "display_data"
    }
   ],
   "source": [
    "regionwise_profit = data %>% \n",
    "        group_by(Region) %>%\n",
    "       summarize(totalP= sum(Profit)) %>%\n",
    "       arrange(desc(totalP))\n",
    "regionwise_sales\n",
    "\n",
    "ggplot(data, aes( x= Region, y= Profit, fill= Region),options(scipen=99)) + \n",
    "          geom_col()+\n",
    "          ggtitle(\"Regionwise Profit Analysis\") + \n",
    "        theme(legend.position = \"None\", axis.text.y = element_text(size=6))"
   ]
  },
  {
   "cell_type": "markdown",
   "id": "087a1c55",
   "metadata": {},
   "source": [
    "### 5) Statewise Profit-Sales Ratio Analysis\n",
    "#### (To measure how much profits are produced at a certain level of sales.)"
   ]
  },
  {
   "cell_type": "code",
   "execution_count": 95,
   "id": "d0ddb818",
   "metadata": {},
   "outputs": [
    {
     "data": {
      "text/html": [
       "<table class=\"dataframe\">\n",
       "<caption>A tibble: 49 × 2</caption>\n",
       "<thead>\n",
       "\t<tr><th scope=col>State</th><th scope=col>sales_profit_ratio</th></tr>\n",
       "\t<tr><th scope=col>&lt;fct&gt;</th><th scope=col>&lt;dbl&gt;</th></tr>\n",
       "</thead>\n",
       "<tbody>\n",
       "\t<tr><td>District of Columbia</td><td> 0.36983662</td></tr>\n",
       "\t<tr><td>Delaware            </td><td> 0.36346034</td></tr>\n",
       "\t<tr><td>Minnesota           </td><td> 0.36242618</td></tr>\n",
       "\t<tr><td>Maine               </td><td> 0.35771387</td></tr>\n",
       "\t<tr><td>Arkansas            </td><td> 0.34326447</td></tr>\n",
       "\t<tr><td>Indiana             </td><td> 0.34325110</td></tr>\n",
       "\t<tr><td>Georgia             </td><td> 0.33098615</td></tr>\n",
       "\t<tr><td>Montana             </td><td> 0.32800377</td></tr>\n",
       "\t<tr><td>Rhode Island        </td><td> 0.32197470</td></tr>\n",
       "\t<tr><td>Michigan            </td><td> 0.32193206</td></tr>\n",
       "\t<tr><td>Kentucky            </td><td> 0.30607163</td></tr>\n",
       "\t<tr><td>South Dakota        </td><td> 0.30012185</td></tr>\n",
       "\t<tr><td>Maryland            </td><td> 0.29660509</td></tr>\n",
       "\t<tr><td>Alabama             </td><td> 0.29659844</td></tr>\n",
       "\t<tr><td>Mississippi         </td><td> 0.29457581</td></tr>\n",
       "\t<tr><td>Missouri            </td><td> 0.28985215</td></tr>\n",
       "\t<tr><td>Kansas              </td><td> 0.28701253</td></tr>\n",
       "\t<tr><td>New Jersey          </td><td> 0.27325882</td></tr>\n",
       "\t<tr><td>Nebraska            </td><td> 0.27288859</td></tr>\n",
       "\t<tr><td>Virginia            </td><td> 0.26329012</td></tr>\n",
       "\t<tr><td>Connecticut         </td><td> 0.26235790</td></tr>\n",
       "\t<tr><td>Wisconsin           </td><td> 0.26161926</td></tr>\n",
       "\t<tr><td>Iowa                </td><td> 0.25848776</td></tr>\n",
       "\t<tr><td>Vermont             </td><td> 0.25141508</td></tr>\n",
       "\t<tr><td>North Dakota        </td><td> 0.25018719</td></tr>\n",
       "\t<tr><td>Oklahoma            </td><td> 0.24660163</td></tr>\n",
       "\t<tr><td>New Mexico          </td><td> 0.24189626</td></tr>\n",
       "\t<tr><td>Washington          </td><td> 0.24082017</td></tr>\n",
       "\t<tr><td>Louisiana           </td><td> 0.23826572</td></tr>\n",
       "\t<tr><td>New York            </td><td> 0.23812419</td></tr>\n",
       "\t<tr><td>Massachusetts       </td><td> 0.23696999</td></tr>\n",
       "\t<tr><td>New Hampshire       </td><td> 0.23400716</td></tr>\n",
       "\t<tr><td>Utah                </td><td> 0.22696264</td></tr>\n",
       "\t<tr><td>South Carolina      </td><td> 0.20857311</td></tr>\n",
       "\t<tr><td>Nevada              </td><td> 0.19826324</td></tr>\n",
       "\t<tr><td>Idaho               </td><td> 0.18864250</td></tr>\n",
       "\t<tr><td>California          </td><td> 0.16681544</td></tr>\n",
       "\t<tr><td>West Virginia       </td><td> 0.15367657</td></tr>\n",
       "\t<tr><td>Wyoming             </td><td> 0.06250000</td></tr>\n",
       "\t<tr><td>Florida             </td><td>-0.03799219</td></tr>\n",
       "\t<tr><td>Oregon              </td><td>-0.06854453</td></tr>\n",
       "\t<tr><td>Arizona             </td><td>-0.09715789</td></tr>\n",
       "\t<tr><td>Pennsylvania        </td><td>-0.13361279</td></tr>\n",
       "\t<tr><td>North Carolina      </td><td>-0.13472097</td></tr>\n",
       "\t<tr><td>Texas               </td><td>-0.15136548</td></tr>\n",
       "\t<tr><td>Illinois            </td><td>-0.15720124</td></tr>\n",
       "\t<tr><td>Tennessee           </td><td>-0.17421289</td></tr>\n",
       "\t<tr><td>Colorado            </td><td>-0.20330864</td></tr>\n",
       "\t<tr><td>Ohio                </td><td>-0.21749194</td></tr>\n",
       "</tbody>\n",
       "</table>\n"
      ],
      "text/latex": [
       "A tibble: 49 × 2\n",
       "\\begin{tabular}{ll}\n",
       " State & sales\\_profit\\_ratio\\\\\n",
       " <fct> & <dbl>\\\\\n",
       "\\hline\n",
       "\t District of Columbia &  0.36983662\\\\\n",
       "\t Delaware             &  0.36346034\\\\\n",
       "\t Minnesota            &  0.36242618\\\\\n",
       "\t Maine                &  0.35771387\\\\\n",
       "\t Arkansas             &  0.34326447\\\\\n",
       "\t Indiana              &  0.34325110\\\\\n",
       "\t Georgia              &  0.33098615\\\\\n",
       "\t Montana              &  0.32800377\\\\\n",
       "\t Rhode Island         &  0.32197470\\\\\n",
       "\t Michigan             &  0.32193206\\\\\n",
       "\t Kentucky             &  0.30607163\\\\\n",
       "\t South Dakota         &  0.30012185\\\\\n",
       "\t Maryland             &  0.29660509\\\\\n",
       "\t Alabama              &  0.29659844\\\\\n",
       "\t Mississippi          &  0.29457581\\\\\n",
       "\t Missouri             &  0.28985215\\\\\n",
       "\t Kansas               &  0.28701253\\\\\n",
       "\t New Jersey           &  0.27325882\\\\\n",
       "\t Nebraska             &  0.27288859\\\\\n",
       "\t Virginia             &  0.26329012\\\\\n",
       "\t Connecticut          &  0.26235790\\\\\n",
       "\t Wisconsin            &  0.26161926\\\\\n",
       "\t Iowa                 &  0.25848776\\\\\n",
       "\t Vermont              &  0.25141508\\\\\n",
       "\t North Dakota         &  0.25018719\\\\\n",
       "\t Oklahoma             &  0.24660163\\\\\n",
       "\t New Mexico           &  0.24189626\\\\\n",
       "\t Washington           &  0.24082017\\\\\n",
       "\t Louisiana            &  0.23826572\\\\\n",
       "\t New York             &  0.23812419\\\\\n",
       "\t Massachusetts        &  0.23696999\\\\\n",
       "\t New Hampshire        &  0.23400716\\\\\n",
       "\t Utah                 &  0.22696264\\\\\n",
       "\t South Carolina       &  0.20857311\\\\\n",
       "\t Nevada               &  0.19826324\\\\\n",
       "\t Idaho                &  0.18864250\\\\\n",
       "\t California           &  0.16681544\\\\\n",
       "\t West Virginia        &  0.15367657\\\\\n",
       "\t Wyoming              &  0.06250000\\\\\n",
       "\t Florida              & -0.03799219\\\\\n",
       "\t Oregon               & -0.06854453\\\\\n",
       "\t Arizona              & -0.09715789\\\\\n",
       "\t Pennsylvania         & -0.13361279\\\\\n",
       "\t North Carolina       & -0.13472097\\\\\n",
       "\t Texas                & -0.15136548\\\\\n",
       "\t Illinois             & -0.15720124\\\\\n",
       "\t Tennessee            & -0.17421289\\\\\n",
       "\t Colorado             & -0.20330864\\\\\n",
       "\t Ohio                 & -0.21749194\\\\\n",
       "\\end{tabular}\n"
      ],
      "text/markdown": [
       "\n",
       "A tibble: 49 × 2\n",
       "\n",
       "| State &lt;fct&gt; | sales_profit_ratio &lt;dbl&gt; |\n",
       "|---|---|\n",
       "| District of Columbia |  0.36983662 |\n",
       "| Delaware             |  0.36346034 |\n",
       "| Minnesota            |  0.36242618 |\n",
       "| Maine                |  0.35771387 |\n",
       "| Arkansas             |  0.34326447 |\n",
       "| Indiana              |  0.34325110 |\n",
       "| Georgia              |  0.33098615 |\n",
       "| Montana              |  0.32800377 |\n",
       "| Rhode Island         |  0.32197470 |\n",
       "| Michigan             |  0.32193206 |\n",
       "| Kentucky             |  0.30607163 |\n",
       "| South Dakota         |  0.30012185 |\n",
       "| Maryland             |  0.29660509 |\n",
       "| Alabama              |  0.29659844 |\n",
       "| Mississippi          |  0.29457581 |\n",
       "| Missouri             |  0.28985215 |\n",
       "| Kansas               |  0.28701253 |\n",
       "| New Jersey           |  0.27325882 |\n",
       "| Nebraska             |  0.27288859 |\n",
       "| Virginia             |  0.26329012 |\n",
       "| Connecticut          |  0.26235790 |\n",
       "| Wisconsin            |  0.26161926 |\n",
       "| Iowa                 |  0.25848776 |\n",
       "| Vermont              |  0.25141508 |\n",
       "| North Dakota         |  0.25018719 |\n",
       "| Oklahoma             |  0.24660163 |\n",
       "| New Mexico           |  0.24189626 |\n",
       "| Washington           |  0.24082017 |\n",
       "| Louisiana            |  0.23826572 |\n",
       "| New York             |  0.23812419 |\n",
       "| Massachusetts        |  0.23696999 |\n",
       "| New Hampshire        |  0.23400716 |\n",
       "| Utah                 |  0.22696264 |\n",
       "| South Carolina       |  0.20857311 |\n",
       "| Nevada               |  0.19826324 |\n",
       "| Idaho                |  0.18864250 |\n",
       "| California           |  0.16681544 |\n",
       "| West Virginia        |  0.15367657 |\n",
       "| Wyoming              |  0.06250000 |\n",
       "| Florida              | -0.03799219 |\n",
       "| Oregon               | -0.06854453 |\n",
       "| Arizona              | -0.09715789 |\n",
       "| Pennsylvania         | -0.13361279 |\n",
       "| North Carolina       | -0.13472097 |\n",
       "| Texas                | -0.15136548 |\n",
       "| Illinois             | -0.15720124 |\n",
       "| Tennessee            | -0.17421289 |\n",
       "| Colorado             | -0.20330864 |\n",
       "| Ohio                 | -0.21749194 |\n",
       "\n"
      ],
      "text/plain": [
       "   State                sales_profit_ratio\n",
       "1  District of Columbia  0.36983662       \n",
       "2  Delaware              0.36346034       \n",
       "3  Minnesota             0.36242618       \n",
       "4  Maine                 0.35771387       \n",
       "5  Arkansas              0.34326447       \n",
       "6  Indiana               0.34325110       \n",
       "7  Georgia               0.33098615       \n",
       "8  Montana               0.32800377       \n",
       "9  Rhode Island          0.32197470       \n",
       "10 Michigan              0.32193206       \n",
       "11 Kentucky              0.30607163       \n",
       "12 South Dakota          0.30012185       \n",
       "13 Maryland              0.29660509       \n",
       "14 Alabama               0.29659844       \n",
       "15 Mississippi           0.29457581       \n",
       "16 Missouri              0.28985215       \n",
       "17 Kansas                0.28701253       \n",
       "18 New Jersey            0.27325882       \n",
       "19 Nebraska              0.27288859       \n",
       "20 Virginia              0.26329012       \n",
       "21 Connecticut           0.26235790       \n",
       "22 Wisconsin             0.26161926       \n",
       "23 Iowa                  0.25848776       \n",
       "24 Vermont               0.25141508       \n",
       "25 North Dakota          0.25018719       \n",
       "26 Oklahoma              0.24660163       \n",
       "27 New Mexico            0.24189626       \n",
       "28 Washington            0.24082017       \n",
       "29 Louisiana             0.23826572       \n",
       "30 New York              0.23812419       \n",
       "31 Massachusetts         0.23696999       \n",
       "32 New Hampshire         0.23400716       \n",
       "33 Utah                  0.22696264       \n",
       "34 South Carolina        0.20857311       \n",
       "35 Nevada                0.19826324       \n",
       "36 Idaho                 0.18864250       \n",
       "37 California            0.16681544       \n",
       "38 West Virginia         0.15367657       \n",
       "39 Wyoming               0.06250000       \n",
       "40 Florida              -0.03799219       \n",
       "41 Oregon               -0.06854453       \n",
       "42 Arizona              -0.09715789       \n",
       "43 Pennsylvania         -0.13361279       \n",
       "44 North Carolina       -0.13472097       \n",
       "45 Texas                -0.15136548       \n",
       "46 Illinois             -0.15720124       \n",
       "47 Tennessee            -0.17421289       \n",
       "48 Colorado             -0.20330864       \n",
       "49 Ohio                 -0.21749194       "
      ]
     },
     "metadata": {},
     "output_type": "display_data"
    },
    {
     "data": {
      "image/png": "[encoded data removed]",
      "text/plain": [
       "plot without title"
      ]
     },
     "metadata": {
      "image/png": {
       "height": 420,
       "width": 420
      }
     },
     "output_type": "display_data"
    }
   ],
   "source": [
    "BarPlot = data %>% \n",
    "        group_by(State) %>%\n",
    "       summarize(sales_profit_ratio= sum(Profit)/sum(Sales)) %>%\n",
    "       arrange(desc(sales_profit_ratio))\n",
    "BarPlot\n",
    "\n",
    "ggplot(BarPlot, aes( x= sales_profit_ratio, y= State, fill= State),options(scipen=99)) + \n",
    "          geom_col()+\n",
    "          ggtitle(\"Statewise Sales-Profit Ratio Analysis \") + \n",
    "        theme(legend.position = \"None\", axis.text.y = element_text(size=6))"
   ]
  },
  {
   "cell_type": "markdown",
   "id": "867d8006",
   "metadata": {},
   "source": [
    "##### Observations :                                                                                      1) Ohio has the worst profit-sales ratio(-0.2168).                                       2) The company should improve their Profit-Sales ratio in California, New York and Washington because even though these states have highest profits, the profit-sales ratio is not very impressive.\n",
    "             "
   ]
  },
  {
   "cell_type": "markdown",
   "id": "ecdff75e",
   "metadata": {},
   "source": [
    "### 6) Segmentwise Sales and Profit Analysis"
   ]
  },
  {
   "cell_type": "code",
   "execution_count": 96,
   "id": "cdafffd9",
   "metadata": {},
   "outputs": [
    {
     "data": {
      "image/png": "[encoded data removed]",
      "text/plain": [
       "plot without title"
      ]
     },
     "metadata": {
      "image/png": {
       "height": 420,
       "width": 420
      }
     },
     "output_type": "display_data"
    }
   ],
   "source": [
    "Segment_analysis = data %>% \n",
    "        group_by(Segment) %>%\n",
    "        summarize(ratio= sum(Profit)/sum(Sales)) %>%\n",
    "        arrange(desc(ratio)) %>%\n",
    "        ggplot( aes( x= Segment, y= ratio, fill= Segment),options(scipen=99)) + \n",
    "        geom_col()+\n",
    "        ggtitle(\"Profit-Sales Ratio analysis for each Segment \")\n",
    "Segment_analysis"
   ]
  },
  {
   "cell_type": "markdown",
   "id": "bfa09320",
   "metadata": {},
   "source": [
    "##### Observations: The profit-sales ratio is highest for Home Office segment. The company can improve its Profit-Sales ratio in the Consumer and Corporate Segment."
   ]
  },
  {
   "cell_type": "markdown",
   "id": "3942792e",
   "metadata": {},
   "source": [
    "### 7)  Percentage sales by Category. "
   ]
  },
  {
   "cell_type": "code",
   "execution_count": 97,
   "id": "a435bce1",
   "metadata": {},
   "outputs": [
    {
     "data": {
      "image/png": "[encoded data removed]",
      "text/plain": [
       "Plot with title \" Percentage sales by Category \""
      ]
     },
     "metadata": {
      "image/png": {
       "height": 420,
       "width": 420
      }
     },
     "output_type": "display_data"
    }
   ],
   "source": [
    "category_s = data %>% \n",
    "                  group_by(Category) %>%\n",
    "                  summarize(Sales=sum(Sales))\n",
    "pct <- round((category_s$Sales/sum(category_s$Sales))*100)\n",
    "lbls <- paste(category_s$Category , pct)\n",
    "lbls <- paste(lbls, \"%\", sep = \" \")\n",
    "pie(category_s$Sales, labels = lbls, main =\" Percentage sales by Category \", col= c('darkmagenta','plum','plum4'))"
   ]
  },
  {
   "cell_type": "markdown",
   "id": "317e0741",
   "metadata": {},
   "source": [
    "### 8) Overall sales for Category ans Sub-Category\n"
   ]
  },
  {
   "cell_type": "code",
   "execution_count": 98,
   "id": "3447a774",
   "metadata": {},
   "outputs": [
    {
     "data": {
      "image/png": "[encoded data removed]",
      "text/plain": [
       "plot without title"
      ]
     },
     "metadata": {
      "image/png": {
       "height": 420,
       "width": 420
      }
     },
     "output_type": "display_data"
    }
   ],
   "source": [
    "treemap(data, index = c(\"Category\",\"Sub.Category\"),title='Sales treemap for categories', vSize = \"Sales\",vColor =\"Profit\", type= \"value\",palette = \"RdYlGn\", range=c(-20000,60000),mapping= c(-20000,10000,60000))"
   ]
  },
  {
   "cell_type": "markdown",
   "id": "29cdfdf7",
   "metadata": {},
   "source": [
    "##### Observation : The above Treemap provides information about the sales and profit of various product category and sub-category. The cell size in the treemap is decided by the sales and the colour gradient describes profit. It can be concluded that \"Phones\" under \"Technology\" has the highest sale. \"Tables\" under \"Furniture\" incurred highest loss, while \"Copiers\" under \"Technology\" was most profitable."
   ]
  },
  {
   "cell_type": "markdown",
   "id": "d255ada6",
   "metadata": {},
   "source": [
    "### 9) Price per Product in different Sub-Categories "
   ]
  },
  {
   "cell_type": "code",
   "execution_count": 99,
   "id": "f510d0d3",
   "metadata": {},
   "outputs": [
    {
     "data": {
      "image/png": "[encoded data removed]",
      "text/plain": [
       "plot without title"
      ]
     },
     "metadata": {
      "image/png": {
       "height": 420,
       "width": 420
      }
     },
     "output_type": "display_data"
    }
   ],
   "source": [
    "Price_per_product = ggplot(data, aes( x= Sub.Category, y=sum(Sales)/sum(Quantity), fill= Sub.Category),options(scipen=99)) + \n",
    "          geom_col()+\n",
    "          ggtitle(\"Price per product\") + \n",
    "          coord_flip() + \n",
    "        theme(legend.position = \"None\", axis.text.x = element_text(size=6))\n",
    "Price_per_product"
   ]
  },
  {
   "cell_type": "markdown",
   "id": "b6569561",
   "metadata": {},
   "source": [
    "##### Observation : Binders have the highest price, followed by paper. Copiers had the least price among all."
   ]
  },
  {
   "cell_type": "markdown",
   "id": "a950b01a",
   "metadata": {},
   "source": [
    "### 10) Profit per product in different Sub-Category "
   ]
  },
  {
   "cell_type": "code",
   "execution_count": 100,
   "id": "8e039beb",
   "metadata": {},
   "outputs": [
    {
     "data": {
      "image/png": "[encoded data removed]",
      "text/plain": [
       "plot without title"
      ]
     },
     "metadata": {
      "image/png": {
       "height": 420,
       "width": 420
      }
     },
     "output_type": "display_data"
    }
   ],
   "source": [
    "profit_per_product = ggplot(data, aes( x= Sub.Category, y=sum(Profit)/sum(Quantity), fill= Sub.Category),options(scipen=99)) + \n",
    "          geom_col()+\n",
    "          ggtitle(\"Profit per product\") +  \n",
    "          coord_flip()+\n",
    "        theme(legend.position = \"None\", axis.text.x = element_text(size=6))\n",
    "profit_per_product"
   ]
  },
  {
   "cell_type": "markdown",
   "id": "e337bcb3",
   "metadata": {},
   "source": [
    "##### Observation : Binders make highest profit per product. "
   ]
  },
  {
   "cell_type": "markdown",
   "id": "25436bc2",
   "metadata": {},
   "source": [
    "### 11) Sales vs Quantity "
   ]
  },
  {
   "cell_type": "code",
   "execution_count": 101,
   "id": "8a50128f",
   "metadata": {},
   "outputs": [
    {
     "data": {
      "image/png": "[encoded data removed]",
      "text/plain": [
       "plot without title"
      ]
     },
     "metadata": {
      "image/png": {
       "height": 420,
       "width": 420
      }
     },
     "output_type": "display_data"
    }
   ],
   "source": [
    "ggplot(data, aes(x = Quantity, y = Sales, fill = Ship.Mode),options(scipen=99) )+ geom_bar(stat = \"identity\")"
   ]
  },
  {
   "cell_type": "markdown",
   "id": "d7ee160c",
   "metadata": {},
   "source": [
    "##### Observation : We see the following pattern that most of the sales have been triggered by the standard class of shipment mode. "
   ]
  },
  {
   "cell_type": "markdown",
   "id": "8bdf2046",
   "metadata": {},
   "source": [
    "### 12) Profit by Shipment mode and Segment"
   ]
  },
  {
   "cell_type": "code",
   "execution_count": 102,
   "id": "7ab63f16",
   "metadata": {},
   "outputs": [
    {
     "data": {
      "image/png": "[encoded data removed]",
      "text/plain": [
       "plot without title"
      ]
     },
     "metadata": {
      "image/png": {
       "height": 420,
       "width": 420
      }
     },
     "output_type": "display_data"
    }
   ],
   "source": [
    "ggplot(data, aes( x=Ship.Mode, y= Profit, fill= Ship.Mode),options(scipen=99)) + \n",
    "          geom_col()+\n",
    "          ggtitle(\"Profit by Shipment mode and Segment\") + \n",
    "        theme(legend.position = \"None\", axis.text.x = element_text(angle = 70 ,size=6)) +\n",
    "         facet_wrap(~Segment)"
   ]
  },
  {
   "cell_type": "markdown",
   "id": "ef840715",
   "metadata": {},
   "source": [
    "##### Observations : Standard Class is the most used shipping mode and Consumer segment is the largest segment among the three. "
   ]
  },
  {
   "cell_type": "markdown",
   "id": "26a40e49",
   "metadata": {},
   "source": [
    "### 13) Sales with and without Discount"
   ]
  },
  {
   "cell_type": "code",
   "execution_count": 103,
   "id": "5582819f",
   "metadata": {},
   "outputs": [
    {
     "data": {
      "text/html": [
       "<table class=\"dataframe\">\n",
       "<caption>A data.frame: 1 × 1</caption>\n",
       "<thead>\n",
       "\t<tr><th scope=col>totals</th></tr>\n",
       "\t<tr><th scope=col>&lt;dbl&gt;</th></tr>\n",
       "</thead>\n",
       "<tbody>\n",
       "\t<tr><td>1208918</td></tr>\n",
       "</tbody>\n",
       "</table>\n"
      ],
      "text/latex": [
       "A data.frame: 1 × 1\n",
       "\\begin{tabular}{l}\n",
       " totals\\\\\n",
       " <dbl>\\\\\n",
       "\\hline\n",
       "\t 1208918\\\\\n",
       "\\end{tabular}\n"
      ],
      "text/markdown": [
       "\n",
       "A data.frame: 1 × 1\n",
       "\n",
       "| totals &lt;dbl&gt; |\n",
       "|---|\n",
       "| 1208918 |\n",
       "\n"
      ],
      "text/plain": [
       "  totals \n",
       "1 1208918"
      ]
     },
     "metadata": {},
     "output_type": "display_data"
    },
    {
     "data": {
      "text/html": [
       "<table class=\"dataframe\">\n",
       "<caption>A data.frame: 1 × 1</caption>\n",
       "<thead>\n",
       "\t<tr><th scope=col>totals</th></tr>\n",
       "\t<tr><th scope=col>&lt;dbl&gt;</th></tr>\n",
       "</thead>\n",
       "<tbody>\n",
       "\t<tr><td>1087278</td></tr>\n",
       "</tbody>\n",
       "</table>\n"
      ],
      "text/latex": [
       "A data.frame: 1 × 1\n",
       "\\begin{tabular}{l}\n",
       " totals\\\\\n",
       " <dbl>\\\\\n",
       "\\hline\n",
       "\t 1087278\\\\\n",
       "\\end{tabular}\n"
      ],
      "text/markdown": [
       "\n",
       "A data.frame: 1 × 1\n",
       "\n",
       "| totals &lt;dbl&gt; |\n",
       "|---|\n",
       "| 1087278 |\n",
       "\n"
      ],
      "text/plain": [
       "  totals \n",
       "1 1087278"
      ]
     },
     "metadata": {},
     "output_type": "display_data"
    }
   ],
   "source": [
    "Sales_with_discount = data %>%\n",
    "                      filter(Discount != 0) %>%\n",
    "                      summarize(totals=sum(Sales))\n",
    "Sales_with_discount\n",
    "\n",
    "Sales_without_discount = data %>%\n",
    "                      filter(Discount == 0) %>%\n",
    "                      summarize(totals=sum(Sales))\n",
    "Sales_without_discount"
   ]
  },
  {
   "cell_type": "markdown",
   "id": "f8d5d7ab",
   "metadata": {},
   "source": [
    "##### Observation : Sales are high when discount is offered."
   ]
  },
  {
   "cell_type": "markdown",
   "id": "e15dd296",
   "metadata": {},
   "source": [
    "### 14) Profit with and without discount"
   ]
  },
  {
   "cell_type": "code",
   "execution_count": 104,
   "id": "2d2aaaab",
   "metadata": {},
   "outputs": [
    {
     "data": {
      "text/html": [
       "<table class=\"dataframe\">\n",
       "<caption>A data.frame: 1 × 1</caption>\n",
       "<thead>\n",
       "\t<tr><th scope=col>totalp</th></tr>\n",
       "\t<tr><th scope=col>&lt;dbl&gt;</th></tr>\n",
       "</thead>\n",
       "<tbody>\n",
       "\t<tr><td>-34602.98</td></tr>\n",
       "</tbody>\n",
       "</table>\n"
      ],
      "text/latex": [
       "A data.frame: 1 × 1\n",
       "\\begin{tabular}{l}\n",
       " totalp\\\\\n",
       " <dbl>\\\\\n",
       "\\hline\n",
       "\t -34602.98\\\\\n",
       "\\end{tabular}\n"
      ],
      "text/markdown": [
       "\n",
       "A data.frame: 1 × 1\n",
       "\n",
       "| totalp &lt;dbl&gt; |\n",
       "|---|\n",
       "| -34602.98 |\n",
       "\n"
      ],
      "text/plain": [
       "  totalp   \n",
       "1 -34602.98"
      ]
     },
     "metadata": {},
     "output_type": "display_data"
    },
    {
     "data": {
      "text/html": [
       "<table class=\"dataframe\">\n",
       "<caption>A data.frame: 1 × 1</caption>\n",
       "<thead>\n",
       "\t<tr><th scope=col>totalp</th></tr>\n",
       "\t<tr><th scope=col>&lt;dbl&gt;</th></tr>\n",
       "</thead>\n",
       "<tbody>\n",
       "\t<tr><td>320844.4</td></tr>\n",
       "</tbody>\n",
       "</table>\n"
      ],
      "text/latex": [
       "A data.frame: 1 × 1\n",
       "\\begin{tabular}{l}\n",
       " totalp\\\\\n",
       " <dbl>\\\\\n",
       "\\hline\n",
       "\t 320844.4\\\\\n",
       "\\end{tabular}\n"
      ],
      "text/markdown": [
       "\n",
       "A data.frame: 1 × 1\n",
       "\n",
       "| totalp &lt;dbl&gt; |\n",
       "|---|\n",
       "| 320844.4 |\n",
       "\n"
      ],
      "text/plain": [
       "  totalp  \n",
       "1 320844.4"
      ]
     },
     "metadata": {},
     "output_type": "display_data"
    }
   ],
   "source": [
    "profit_with_discount = data %>%\n",
    "                      filter(Discount != 0) %>%\n",
    "                      summarize(totalp=sum(Profit))\n",
    "profit_with_discount\n",
    "\n",
    "profit_without_discount = data %>%\n",
    "                      filter(Discount == 0) %>%\n",
    "                      summarize(totalp=sum(Profit))\n",
    "profit_without_discount"
   ]
  },
  {
   "cell_type": "markdown",
   "id": "6f6d1438",
   "metadata": {},
   "source": [
    "##### The company incurres loss when discount is given. So that area should be monitored."
   ]
  }
 ],
 "metadata": {
  "kernelspec": {
   "display_name": "R",
   "language": "R",
   "name": "ir"
  },
  "language_info": {
   "codemirror_mode": "r",
   "file_extension": ".r",
   "mimetype": "text/x-r-source",
   "name": "R",
   "pygments_lexer": "r",
   "version": "3.6.0"
  }
 },
 "nbformat": 4,
 "nbformat_minor": 5
}
